{
 "cells": [
  {
   "cell_type": "code",
   "execution_count": 1,
   "metadata": {},
   "outputs": [],
   "source": [
    "import os\n",
    "from tqdm import tqdm\n",
    "\n",
    "from typing import Tuple, Sequence, Callable\n",
    "import csv\n",
    "import cv2\n",
    "import numpy as np\n",
    "import pandas as pd\n",
    "from PIL import Image\n",
    "import torch\n",
    "import torch.optim as optim\n",
    "from torch import nn, Tensor\n",
    "from torch.utils.data import Dataset, DataLoader\n",
    "from torch.cuda.amp import autocast, GradScaler\n",
    "\n",
    "from torchvision import transforms\n",
    "from torchvision.models import resnet18 "
   ]
  },
  {
   "cell_type": "code",
   "execution_count": 2,
   "metadata": {},
   "outputs": [
    {
     "data": {
      "text/plain": [
       "'/repo/dacon/alphabet_classification/code'"
      ]
     },
     "execution_count": 2,
     "metadata": {},
     "output_type": "execute_result"
    }
   ],
   "source": [
    "os.getcwd()"
   ]
  },
  {
   "cell_type": "code",
   "execution_count": 3,
   "metadata": {},
   "outputs": [],
   "source": [
    "os.chdir('../data')"
   ]
  },
  {
   "cell_type": "code",
   "execution_count": 4,
   "metadata": {},
   "outputs": [
    {
     "data": {
      "text/plain": [
       "'/repo/dacon/alphabet_classification/data'"
      ]
     },
     "execution_count": 4,
     "metadata": {},
     "output_type": "execute_result"
    }
   ],
   "source": [
    "os.getcwd()"
   ]
  },
  {
   "cell_type": "code",
   "execution_count": 5,
   "metadata": {},
   "outputs": [],
   "source": [
    "class MnistDataset(Dataset):\n",
    "    def __init__(\n",
    "        self,\n",
    "        dir: os.PathLike,\n",
    "        image_ids: os.PathLike,\n",
    "        transforms: Sequence[Callable]\n",
    "    ) -> None:\n",
    "        self.dir = dir\n",
    "        self.transforms = transforms\n",
    "\n",
    "        self.labels = {}\n",
    "        with open(image_ids, 'r') as f:\n",
    "            reader = csv.reader(f)\n",
    "            next(reader)\n",
    "            for row in reader:\n",
    "                self.labels[int(row[0])] = list(map(int, row[1:]))\n",
    "\n",
    "        self.image_ids = list(self.labels.keys())\n",
    "\n",
    "    def __len__(self) -> int:\n",
    "        return len(self.image_ids)\n",
    "\n",
    "    def __getitem__(self, index: int) -> Tuple[Tensor]:\n",
    "        image_id = self.image_ids[index]\n",
    "        image = Image.open(\n",
    "            os.path.join(\n",
    "                #self.dir, f'{str(image_id).zfill(5)}.png')).convert('RGB')\n",
    "                self.dir, f'{str(image_id).zfill(5)}.png')).convert('HSV')\n",
    "\n",
    "        target = np.array(self.labels.get(image_id)).astype(np.float32)\n",
    "\n",
    "        if self.transforms is not None:\n",
    "            image = self.transforms(image)\n",
    "\n",
    "        return image, target"
   ]
  },
  {
   "cell_type": "code",
   "execution_count": 6,
   "metadata": {},
   "outputs": [],
   "source": [
    "transforms_train = transforms.Compose([\n",
    "    transforms.RandomHorizontalFlip(p=0.5),\n",
    "    transforms.RandomVerticalFlip(p=0.5),\n",
    "    transforms.ToTensor(),\n",
    "    transforms.Normalize(\n",
    "        [0.485, 0.456, 0.406],\n",
    "        [0.229, 0.224, 0.225]\n",
    "   )\n",
    "])\n",
    "\n",
    "transforms_test = transforms.Compose([\n",
    "    transforms.ToTensor(),\n",
    "    transforms.Normalize(\n",
    "        [0.485, 0.456, 0.406],\n",
    "        [0.229, 0.224, 0.225]\n",
    "    )\n",
    "])"
   ]
  },
  {
   "cell_type": "code",
   "execution_count": 7,
   "metadata": {},
   "outputs": [],
   "source": [
    "trainset = MnistDataset('dirty_mnist','dirty_mnist_answer.csv', transforms_train)\n",
    "testset = MnistDataset('test_dirty_mnist','sample_submission.csv', transforms_test)\n",
    "\n",
    "train_loader = DataLoader(trainset, batch_size=256, num_workers=8)\n",
    "test_loader = DataLoader(testset, batch_size=32, num_workers=4)"
   ]
  },
  {
   "cell_type": "code",
   "execution_count": 8,
   "metadata": {},
   "outputs": [
    {
     "data": {
      "text/plain": [
       "<torch.utils.data.dataloader.DataLoader at 0x7febe4725278>"
      ]
     },
     "execution_count": 8,
     "metadata": {},
     "output_type": "execute_result"
    }
   ],
   "source": [
    "train_loader"
   ]
  },
  {
   "cell_type": "code",
   "execution_count": 9,
   "metadata": {},
   "outputs": [
    {
     "data": {
      "text/plain": [
       "<torch.utils.data.dataloader.DataLoader at 0x7febe4725320>"
      ]
     },
     "execution_count": 9,
     "metadata": {},
     "output_type": "execute_result"
    }
   ],
   "source": [
    "test_loader"
   ]
  },
  {
   "cell_type": "code",
   "execution_count": 10,
   "metadata": {},
   "outputs": [],
   "source": [
    "class MnistModel(nn.Module):\n",
    "    def __init__(self) -> None:\n",
    "        super().__init__()\n",
    "        self.resnet = resnet18(pretrained=True)\n",
    "        self.classifier = nn.Linear(1000, 26)\n",
    "\n",
    "    def forward(self, x):\n",
    "        x = self.resnet(x)\n",
    "        x = self.classifier(x)\n",
    "\n",
    "        return x"
   ]
  },
  {
   "cell_type": "code",
   "execution_count": 11,
   "metadata": {},
   "outputs": [
    {
     "name": "stdout",
     "output_type": "stream",
     "text": [
      "0: 0.69256, 0.53831\n",
      "0: 0.68875, 0.54447\n",
      "0: 0.68518, 0.53816\n",
      "0: 0.68003, 0.55634\n",
      "0: 0.67733, 0.55048\n",
      "0: 0.67974, 0.54763\n",
      "0: 0.67442, 0.55123\n",
      "0: 0.66878, 0.57136\n",
      "0: 0.66400, 0.57151\n",
      "0: 0.66270, 0.57828\n",
      "0: 0.65252, 0.57121\n",
      "0: 0.65101, 0.57978\n",
      "0: 0.64486, 0.59044\n",
      "0: 0.64214, 0.59240\n",
      "0: 0.64295, 0.59195\n",
      "0: 0.62721, 0.60742\n",
      "0: 0.62856, 0.60472\n",
      "0: 0.62389, 0.61944\n",
      "0: 0.62590, 0.61313\n",
      "1: 0.61241, 0.63056\n",
      "1: 0.61680, 0.62800\n",
      "1: 0.60922, 0.63717\n",
      "1: 0.59358, 0.64603\n",
      "1: 0.58953, 0.64663\n",
      "1: 0.58996, 0.64829\n",
      "1: 0.58401, 0.65685\n",
      "1: 0.58242, 0.66737\n",
      "1: 0.58225, 0.66106\n",
      "1: 0.56903, 0.67653\n",
      "1: 0.56365, 0.67233\n",
      "1: 0.55047, 0.67834\n",
      "1: 0.54934, 0.69171\n",
      "1: 0.54477, 0.68825\n",
      "1: 0.55820, 0.68735\n",
      "1: 0.54171, 0.69591\n",
      "1: 0.53649, 0.69892\n",
      "1: 0.53335, 0.70463\n",
      "1: 0.53527, 0.70162\n",
      "2: 0.53311, 0.70328\n",
      "2: 0.53146, 0.70553\n",
      "2: 0.52347, 0.71034\n",
      "2: 0.50414, 0.72731\n",
      "2: 0.51055, 0.72912\n",
      "2: 0.51255, 0.72791\n",
      "2: 0.51382, 0.72641\n",
      "2: 0.50424, 0.72957\n",
      "2: 0.49947, 0.72912\n",
      "2: 0.49716, 0.73663\n",
      "2: 0.49687, 0.72927\n",
      "2: 0.47378, 0.75150\n",
      "2: 0.47328, 0.75871\n",
      "2: 0.48099, 0.75391\n",
      "2: 0.48217, 0.74715\n",
      "2: 0.47536, 0.75751\n",
      "2: 0.47042, 0.75766\n",
      "2: 0.48450, 0.75361\n",
      "2: 0.45226, 0.76983\n",
      "3: 0.46176, 0.76262\n",
      "3: 0.45828, 0.76202\n",
      "3: 0.45555, 0.76743\n",
      "3: 0.44515, 0.77344\n",
      "3: 0.44566, 0.78305\n",
      "3: 0.44494, 0.77148\n",
      "3: 0.44053, 0.78035\n",
      "3: 0.43663, 0.78155\n",
      "3: 0.43883, 0.78245\n",
      "3: 0.43430, 0.78260\n",
      "3: 0.42438, 0.78486\n",
      "3: 0.40907, 0.79432\n",
      "3: 0.41538, 0.80138\n",
      "3: 0.41608, 0.79868\n",
      "3: 0.42914, 0.79342\n",
      "3: 0.42235, 0.79748\n",
      "3: 0.41965, 0.79222\n",
      "3: 0.42419, 0.79567\n",
      "3: 0.39554, 0.80844\n",
      "4: 0.40249, 0.80258\n",
      "4: 0.39772, 0.81100\n",
      "4: 0.40457, 0.80168\n",
      "4: 0.37983, 0.81881\n",
      "4: 0.38162, 0.81596\n",
      "4: 0.38676, 0.81220\n",
      "4: 0.38131, 0.81746\n",
      "4: 0.37284, 0.82091\n",
      "4: 0.38941, 0.81430\n",
      "4: 0.37528, 0.81866\n",
      "4: 0.35884, 0.83068\n",
      "4: 0.35335, 0.83233\n",
      "4: 0.35774, 0.84014\n",
      "4: 0.36698, 0.83068\n",
      "4: 0.36051, 0.83308\n",
      "4: 0.35822, 0.83579\n",
      "4: 0.36460, 0.82918\n",
      "4: 0.35748, 0.83413\n",
      "4: 0.32862, 0.85156\n",
      "5: 0.33669, 0.84345\n",
      "5: 0.34299, 0.84285\n",
      "5: 0.33634, 0.84976\n",
      "5: 0.32248, 0.85186\n",
      "5: 0.30485, 0.86493\n",
      "5: 0.32310, 0.85201\n",
      "5: 0.32283, 0.85367\n",
      "5: 0.30983, 0.86343\n",
      "5: 0.31462, 0.85832\n",
      "5: 0.31855, 0.85953\n",
      "5: 0.29725, 0.86328\n",
      "5: 0.30450, 0.86328\n",
      "5: 0.29762, 0.86869\n",
      "5: 0.29133, 0.87124\n",
      "5: 0.30231, 0.86899\n",
      "5: 0.28973, 0.87665\n",
      "5: 0.29388, 0.86929\n",
      "5: 0.28570, 0.87635\n",
      "5: 0.25619, 0.89288\n",
      "6: 0.27223, 0.88041\n",
      "6: 0.28380, 0.87395\n",
      "6: 0.27961, 0.88071\n",
      "6: 0.25467, 0.88897\n",
      "6: 0.25180, 0.89303\n",
      "6: 0.24369, 0.89168\n",
      "6: 0.26089, 0.89108\n",
      "6: 0.25509, 0.89063\n",
      "6: 0.24678, 0.89438\n",
      "6: 0.23298, 0.89979\n",
      "6: 0.24075, 0.89663\n",
      "6: 0.24311, 0.89558\n",
      "6: 0.22079, 0.90986\n",
      "6: 0.22653, 0.90895\n",
      "6: 0.23310, 0.90159\n",
      "6: 0.22232, 0.90835\n",
      "6: 0.24088, 0.90310\n",
      "6: 0.22088, 0.90535\n",
      "6: 0.20855, 0.91587\n",
      "7: 0.22218, 0.90850\n",
      "7: 0.20986, 0.91106\n",
      "7: 0.21063, 0.90910\n",
      "7: 0.20497, 0.91632\n",
      "7: 0.20273, 0.91977\n",
      "7: 0.19290, 0.91797\n",
      "7: 0.20209, 0.91286\n",
      "7: 0.19921, 0.92082\n",
      "7: 0.19125, 0.91902\n",
      "7: 0.19899, 0.91812\n",
      "7: 0.18861, 0.92263\n",
      "7: 0.18773, 0.92293\n",
      "7: 0.17694, 0.92758\n",
      "7: 0.17683, 0.92443\n",
      "7: 0.18618, 0.92443\n",
      "7: 0.17334, 0.93179\n",
      "7: 0.18072, 0.92668\n",
      "7: 0.18675, 0.92683\n",
      "7: 0.16032, 0.93254\n",
      "8: 0.17572, 0.92803\n",
      "8: 0.17330, 0.92698\n",
      "8: 0.16153, 0.93510\n",
      "8: 0.16565, 0.93615\n",
      "8: 0.14288, 0.94396\n",
      "8: 0.15533, 0.93284\n",
      "8: 0.15770, 0.93555\n",
      "8: 0.15242, 0.94096\n",
      "8: 0.15203, 0.93825\n",
      "8: 0.14993, 0.93885\n",
      "8: 0.15377, 0.93810\n",
      "8: 0.14105, 0.94471\n",
      "8: 0.15039, 0.93855\n",
      "8: 0.14319, 0.94336\n",
      "8: 0.14826, 0.93975\n",
      "8: 0.13787, 0.94666\n",
      "8: 0.14750, 0.94066\n",
      "8: 0.14576, 0.94366\n",
      "8: 0.13754, 0.94697\n",
      "9: 0.15212, 0.94231\n",
      "9: 0.13437, 0.94727\n",
      "9: 0.12935, 0.94952\n",
      "9: 0.13580, 0.95012\n",
      "9: 0.12297, 0.95433\n",
      "9: 0.11748, 0.95448\n",
      "9: 0.12953, 0.94802\n",
      "9: 0.13019, 0.94742\n",
      "9: 0.12782, 0.94772\n",
      "9: 0.13088, 0.94967\n",
      "9: 0.12644, 0.95117\n",
      "9: 0.13489, 0.94922\n",
      "9: 0.11280, 0.95748\n",
      "9: 0.11822, 0.95207\n",
      "9: 0.12023, 0.95313\n",
      "9: 0.11659, 0.95598\n",
      "9: 0.13055, 0.94967\n",
      "9: 0.10603, 0.95989\n",
      "9: 0.10506, 0.95974\n"
     ]
    }
   ],
   "source": [
    "device = torch.device('cuda' if torch.cuda.is_available() else 'cpu')\n",
    "scaler = GradScaler()\n",
    "\n",
    "model = MnistModel().to(device)\n",
    "optimizer = optim.Adam(model.parameters(), lr=1e-3)\n",
    "criterion = nn.MultiLabelSoftMarginLoss()\n",
    "\n",
    "num_epochs = 10\n",
    "model.train()\n",
    "\n",
    "for epoch in range(num_epochs):\n",
    "    for i, (images, targets) in enumerate(train_loader):\n",
    "        optimizer.zero_grad()\n",
    "\n",
    "        images = images.to(device)\n",
    "        targets = targets.to(device)\n",
    "\n",
    "        outputs = model(images)\n",
    "        loss = criterion(outputs, targets)\n",
    "\n",
    "        loss.backward()\n",
    "        optimizer.step()\n",
    "\n",
    "        if (i+1) % 10 == 0:\n",
    "            outputs = outputs > 0.5\n",
    "            acc = (outputs == targets).float().mean()\n",
    "            print(f'{epoch}: {loss.item():.5f}, {acc.item():.5f}')"
   ]
  },
  {
   "cell_type": "code",
   "execution_count": 12,
   "metadata": {},
   "outputs": [],
   "source": [
    "submit = pd.read_csv('sample_submission.csv')\n",
    "\n",
    "model.eval()\n",
    "batch_size = test_loader.batch_size\n",
    "batch_index = 0\n",
    "for i, (images, targets) in enumerate(test_loader):\n",
    "    images = images.to(device)\n",
    "    targets = targets.to(device)\n",
    "    outputs = model(images)\n",
    "    outputs = outputs > 0.5\n",
    "    batch_index = i * batch_size\n",
    "    submit.iloc[batch_index:batch_index+batch_size, 1:] = \\\n",
    "        outputs.long().squeeze(0).detach().cpu().numpy()\n",
    "    \n",
    "#submit.to_csv('../submission/rgb_submit.csv', index=False)\n",
    "submit.to_csv('../submission/hsv_submit.csv', index=False)"
   ]
  },
  {
   "cell_type": "code",
   "execution_count": null,
   "metadata": {},
   "outputs": [],
   "source": []
  }
 ],
 "metadata": {
  "kernelspec": {
   "display_name": "Python 3",
   "language": "python",
   "name": "python3"
  },
  "language_info": {
   "codemirror_mode": {
    "name": "ipython",
    "version": 3
   },
   "file_extension": ".py",
   "mimetype": "text/x-python",
   "name": "python",
   "nbconvert_exporter": "python",
   "pygments_lexer": "ipython3",
   "version": "3.6.9"
  }
 },
 "nbformat": 4,
 "nbformat_minor": 4
}
