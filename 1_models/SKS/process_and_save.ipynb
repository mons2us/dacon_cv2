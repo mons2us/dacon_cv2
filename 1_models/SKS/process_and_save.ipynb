{
 "cells": [
  {
   "cell_type": "code",
   "execution_count": 1,
   "metadata": {},
   "outputs": [],
   "source": [
    "import os, shutil\n",
    "from glob import glob\n",
    "from tqdm import tqdm\n",
    "import cv2\n",
    "import numpy as np\n",
    "import matplotlib.pyplot as plt\n",
    "from PIL import Image\n",
    "from multiprocessing import Pool\n",
    "\n",
    "from utils.imageprocess import image_processor"
   ]
  },
  {
   "cell_type": "code",
   "execution_count": 2,
   "metadata": {},
   "outputs": [],
   "source": [
    "datadir = os.path.join(os.getcwd(), 'dataset')\n",
    "trainset_dir = os.path.join(datadir, 'trainset')\n",
    "testset_dir = os.path.join(datadir, 'testset')"
   ]
  },
  {
   "cell_type": "code",
   "execution_count": 3,
   "metadata": {},
   "outputs": [],
   "source": [
    "all_images_train = glob(os.path.join(trainset_dir, '*.png'))\n",
    "all_images_test = glob(os.path.join(testset_dir, '*.png'))"
   ]
  },
  {
   "cell_type": "code",
   "execution_count": 4,
   "metadata": {},
   "outputs": [],
   "source": [
    "def save_processed_img(input_path):\n",
    "    \"\"\"\n",
    "    With given path for an image, returns processed image and save it.\n",
    "    Saved image is of PILLOW image type, not numpy array.\n",
    "    \n",
    "    Arguments:\n",
    "    `input_path`: Path to the target image, e.g. /home/blah/blah/trainset/111.png\n",
    "    \"\"\"\n",
    "    datadir = os.path.join(os.getcwd(), 'dataset')\n",
    "    \n",
    "    save_dir = os.path.join(datadir, 'denoised_trainset')\n",
    "    save_path = os.path.join(save_dir, os.path.basename(input_path))\n",
    "    \n",
    "    im0 = cv2.imread(input_path)\n",
    "    \n",
    "    after_img = image_processor(im0)\n",
    "    im = Image.fromarray(after_img)\n",
    "    im.save(save_path)\n",
    "    \n",
    "    return None"
   ]
  },
  {
   "cell_type": "code",
   "execution_count": null,
   "metadata": {},
   "outputs": [
    {
     "name": "stderr",
     "output_type": "stream",
     "text": [
      " 93%|█████████▎| 46647/50000 [1:23:57<05:25, 10.30it/s]"
     ]
    }
   ],
   "source": [
    "# MULTIPROCESSOR TO SAVE IMAGES\n",
    "#pool = Pool(processes=16)\n",
    "#pool.map(save_processed_img, all_images)\n",
    "\n",
    "pool = Pool(processes=8)\n",
    "for _ in tqdm(pool.imap_unordered(save_processed_img, all_images_train), total=len(all_images_train)):\n",
    "    pass"
   ]
  },
  {
   "cell_type": "code",
   "execution_count": 1,
   "metadata": {},
   "outputs": [],
   "source": [
    "!rm /home/sks/COMPETITION/DACON/computer_vision2/dataset/denoised_trainset/*"
   ]
  },
  {
   "cell_type": "code",
   "execution_count": null,
   "metadata": {},
   "outputs": [],
   "source": []
  }
 ],
 "metadata": {
  "kernelspec": {
   "display_name": "dacon",
   "language": "python",
   "name": "dacon"
  },
  "language_info": {
   "codemirror_mode": {
    "name": "ipython",
    "version": 3
   },
   "file_extension": ".py",
   "mimetype": "text/x-python",
   "name": "python",
   "nbconvert_exporter": "python",
   "pygments_lexer": "ipython3",
   "version": "3.8.5"
  }
 },
 "nbformat": 4,
 "nbformat_minor": 4
}
