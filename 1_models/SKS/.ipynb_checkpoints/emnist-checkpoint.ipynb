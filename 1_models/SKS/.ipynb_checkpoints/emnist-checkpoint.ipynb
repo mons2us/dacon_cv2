{
 "cells": [
  {
   "cell_type": "code",
   "execution_count": 137,
   "metadata": {},
   "outputs": [],
   "source": [
    "%config Completer.use_jedi = False"
   ]
  },
  {
   "cell_type": "code",
   "execution_count": 138,
   "metadata": {},
   "outputs": [],
   "source": [
    "import os, shutil\n",
    "from glob import glob\n",
    "from tqdm import tqdm\n",
    "import cv2\n",
    "import pandas as pd\n",
    "import numpy as np\n",
    "import matplotlib.pyplot as plt\n",
    "\n",
    "import torch\n",
    "import torch.nn as nn\n",
    "import torch.nn.functional as F\n",
    "import torch.optim as optim\n",
    "import torchvision\n",
    "import torchvision.models as models\n",
    "from torchvision import transforms\n",
    "from torch.utils.data import DataLoader, Dataset"
   ]
  },
  {
   "cell_type": "code",
   "execution_count": 139,
   "metadata": {},
   "outputs": [],
   "source": [
    "import logging\n",
    "\n",
    "logger = logging.getLogger(__name__)\n",
    "logging.basicConfig(format='%(asctime)s : %(message)s', level=logging.INFO)"
   ]
  },
  {
   "cell_type": "code",
   "execution_count": 140,
   "metadata": {},
   "outputs": [
    {
     "ename": "ModuleNotFoundError",
     "evalue": "No module named 'EarlyStopping'",
     "output_type": "error",
     "traceback": [
      "\u001b[0;31m---------------------------------------------------------------------------\u001b[0m",
      "\u001b[0;31mModuleNotFoundError\u001b[0m                       Traceback (most recent call last)",
      "\u001b[0;32m<ipython-input-140-61c6fc77a746>\u001b[0m in \u001b[0;36m<module>\u001b[0;34m\u001b[0m\n\u001b[1;32m      1\u001b[0m \u001b[0;31m# Early Stopper\u001b[0m\u001b[0;34m\u001b[0m\u001b[0;34m\u001b[0m\u001b[0;34m\u001b[0m\u001b[0m\n\u001b[0;32m----> 2\u001b[0;31m \u001b[0;32mfrom\u001b[0m \u001b[0mEarlyStopping\u001b[0m \u001b[0;32mimport\u001b[0m \u001b[0mEarlyStopping\u001b[0m\u001b[0;34m\u001b[0m\u001b[0;34m\u001b[0m\u001b[0m\n\u001b[0m",
      "\u001b[0;31mModuleNotFoundError\u001b[0m: No module named 'EarlyStopping'"
     ]
    }
   ],
   "source": [
    "# Early Stopper\n",
    "from EarlyStopping import EarlyStopping"
   ]
  },
  {
   "cell_type": "code",
   "execution_count": 141,
   "metadata": {},
   "outputs": [
    {
     "name": "stdout",
     "output_type": "stream",
     "text": [
      "Current Device: cuda:0\n"
     ]
    }
   ],
   "source": [
    "device = torch.device(\"cuda:0\" if torch.cuda.is_available() else \"cpu\")\n",
    "print(f\"Current Device: {device}\")"
   ]
  },
  {
   "cell_type": "code",
   "execution_count": 142,
   "metadata": {},
   "outputs": [],
   "source": [
    "def set_seed(seed):\n",
    "    random.seed(seed)\n",
    "    np.random.seed(seed)\n",
    "    torch.manual_seed(seed)\n",
    "    if torch.cuda.device_count() > 0:\n",
    "        torch.cuda.manual_seed_all(seed)"
   ]
  },
  {
   "cell_type": "code",
   "execution_count": 143,
   "metadata": {
    "scrolled": true
   },
   "outputs": [],
   "source": [
    "transformer = transforms.Compose([\n",
    "    transforms.RandomPerspective(distortion_scale=0.5, p=1),\n",
    "    transforms.ToTensor(),\n",
    "    transforms.Normalize([0.406], [0.225]),\n",
    "])\n",
    "\n",
    "transformer_org = transforms.Compose([\n",
    "    transforms.ToTensor(),\n",
    "    transforms.Normalize([0.406], [0.225]),\n",
    "])\n",
    "\n",
    "trainset = torchvision.datasets.EMNIST(root='./dataset/emnistset',\n",
    "                                       split='letters',\n",
    "                                       train=True,\n",
    "                                       download=True,\n",
    "                                       transform=transformer)\n",
    "\n",
    "\n",
    "trainset_org = torchvision.datasets.EMNIST(root='./dataset/emnistset',\n",
    "                                       split='letters',\n",
    "                                       train=True,\n",
    "                                       download=True,\n",
    "                                       transform=transformer_org)\n",
    "\n",
    "testset = torchvision.datasets.EMNIST(root='./dataset/emnistset',\n",
    "                                      split='letters',\n",
    "                                      train=False,\n",
    "                                      download=True,\n",
    "                                      transform=transformer)"
   ]
  },
  {
   "cell_type": "code",
   "execution_count": 144,
   "metadata": {},
   "outputs": [
    {
     "data": {
      "text/plain": [
       "<matplotlib.image.AxesImage at 0x7f3db7b2d910>"
      ]
     },
     "execution_count": 144,
     "metadata": {},
     "output_type": "execute_result"
    },
    {
     "data": {
      "image/png": "[encoded data removed]",
      "text/plain": [
       "<Figure size 432x288 with 1 Axes>"
      ]
     },
     "metadata": {
      "needs_background": "light"
     },
     "output_type": "display_data"
    }
   ],
   "source": [
    "i = 1800\n",
    "plt.imshow(trainset_org[i][0].permute(1,2,0))"
   ]
  },
  {
   "cell_type": "code",
   "execution_count": 145,
   "metadata": {},
   "outputs": [
    {
     "data": {
      "text/plain": [
       "<matplotlib.image.AxesImage at 0x7f3db7af8f10>"
      ]
     },
     "execution_count": 145,
     "metadata": {},
     "output_type": "execute_result"
    },
    {
     "data": {
      "image/png": "[encoded data removed]",
      "text/plain": [
       "<Figure size 432x288 with 1 Axes>"
      ]
     },
     "metadata": {
      "needs_background": "light"
     },
     "output_type": "display_data"
    }
   ],
   "source": [
    "plt.imshow(trainset[i][0].permute(1,2,0))"
   ]
  },
  {
   "cell_type": "code",
   "execution_count": 146,
   "metadata": {},
   "outputs": [
    {
     "name": "stderr",
     "output_type": "stream",
     "text": [
      "2021-02-07 01:18:36,644 : Train Length: 99840, Validation Length: 24960\n"
     ]
    }
   ],
   "source": [
    "train_ratio = 0.8\n",
    "train_len = int(len(trainset) * train_ratio)\n",
    "val_len = len(trainset) - train_len\n",
    "logger.info(f'Train Length: {train_len}, Validation Length: {val_len}')"
   ]
  },
  {
   "cell_type": "code",
   "execution_count": 147,
   "metadata": {},
   "outputs": [],
   "source": [
    "train_set, val_set = torch.utils.data.random_split(trainset, lengths=[train_len, val_len])"
   ]
  },
  {
   "cell_type": "code",
   "execution_count": 179,
   "metadata": {},
   "outputs": [],
   "source": [
    "batch_size = 4096\n",
    "\n",
    "train_loader = torch.utils.data.DataLoader(train_set, batch_size=batch_size, shuffle=False)\n",
    "val_loader = torch.utils.data.DataLoader(val_set, batch_size=batch_size, shuffle=True)\n",
    "test_loader = torch.utils.data.DataLoader(testset, batch_size=batch_size, shuffle=True)"
   ]
  },
  {
   "cell_type": "code",
   "execution_count": 14,
   "metadata": {},
   "outputs": [],
   "source": [
    "class EmnistModel(nn.Module):\n",
    "    def __init__(self):\n",
    "        super().__init__()\n",
    "        \n",
    "        self.layer1 = nn.Sequential(\n",
    "            nn.Conv2d(in_channels=1, out_channels=64, kernel_size=7, stride=1, padding=3),\n",
    "            nn.ELU(),\n",
    "            nn.BatchNorm2d(64),\n",
    "            \n",
    "            nn.MaxPool2d(kernel_size=2, stride=2),\n",
    "        )\n",
    "        \n",
    "        self.layer2 = nn.Sequential(\n",
    "            nn.Conv2d(in_channels=64, out_channels=128, kernel_size=3, stride=1, padding=1),\n",
    "            nn.ELU(),\n",
    "            nn.BatchNorm2d(128),\n",
    "            \n",
    "            nn.MaxPool2d(kernel_size=2, stride=2),\n",
    "        )\n",
    "        \n",
    "        self.fclayer = nn.Sequential(\n",
    "            nn.Linear(in_features=128*7*7, out_features=512),\n",
    "            nn.ELU(),\n",
    "            nn.BatchNorm1d(512),\n",
    "            \n",
    "            nn.Linear(in_features=512, out_features=128),\n",
    "            nn.ELU(),\n",
    "            nn.BatchNorm1d(128),\n",
    "            \n",
    "            nn.Linear(in_features=128, out_features=26),\n",
    "            nn.Softmax(dim=1)\n",
    "        )\n",
    "        \n",
    "    def forward(self, x):\n",
    "        \n",
    "        out = self.layer1(x)\n",
    "        out = self.layer2(out)\n",
    "        \n",
    "        out = out.view(out.size(0), -1)\n",
    "        out = self.fclayer(out)\n",
    "        \n",
    "        return out"
   ]
  },
  {
   "cell_type": "code",
   "execution_count": 172,
   "metadata": {},
   "outputs": [],
   "source": [
    "class EmnistModel(nn.Module):\n",
    "    def __init__(self):\n",
    "        super().__init__()\n",
    "\n",
    "        self.fclayer = nn.Sequential(\n",
    "            nn.Linear(in_features=28*28, out_features=256),\n",
    "            nn.ELU(),\n",
    "            nn.BatchNorm1d(256),\n",
    "            \n",
    "            nn.Linear(in_features=256, out_features=64),\n",
    "            nn.ELU(),\n",
    "            nn.BatchNorm1d(64),\n",
    "            \n",
    "            nn.Linear(in_features=64, out_features=26),\n",
    "            nn.Softmax(dim=1)\n",
    "        )\n",
    "        \n",
    "    def forward(self, x):\n",
    "\n",
    "        x = x.view(x.size(0), -1)\n",
    "        out = self.fclayer(x)\n",
    "        \n",
    "        return out"
   ]
  },
  {
   "cell_type": "code",
   "execution_count": 173,
   "metadata": {},
   "outputs": [],
   "source": [
    "def weights_init(m):\n",
    "    classname = m.__class__.__name__\n",
    "    \n",
    "    if classname.find('Conv') != -1:\n",
    "        torch.nn.init.kaiming_normal_(m.weight)\n",
    "        \n",
    "    elif classname.find('BatchNorm') != -1:\n",
    "        torch.nn.init.normal_(m.weight, 1.0, 0.02)\n",
    "        torch.nn.init.zeros_(m.bias)\n",
    "        \n",
    "    elif classname.find('Linear') != -1:\n",
    "        torch.nn.init.xavier_uniform_(m.weight)\n",
    "        m.bias.data.fill_(0.01)\n",
    "\n",
    "\n",
    "def train_model(epochs, lr, *loaders):\n",
    "    \n",
    "    model = EmnistModel().to(device)\n",
    "    model.apply(weights_init)\n",
    "    \n",
    "    # Dataloaders (train/val)\n",
    "    train_loader = loaders[0]\n",
    "    val_loader = loaders[1]\n",
    "    \n",
    "    # Early Stopper\n",
    "    early_stopping = EarlyStopping(patience = 5, verbose = False)\n",
    "    \n",
    "    loss_function = nn.CrossEntropyLoss()\n",
    "    optimizer = optim.Adam(model.parameters(), lr=lr)\n",
    "\n",
    "    decayRate = 0.998\n",
    "    lr_scheduler = torch.optim.lr_scheduler.ExponentialLR(optimizer=optimizer, gamma=decayRate)\n",
    "    \n",
    "    train_tot_num = train_loader.dataset.__len__()\n",
    "    val_tot_num = val_loader.dataset.__len__()\n",
    "    \n",
    "    train_loss_sum, train_acc_sum = 0.0, 0.0\n",
    "    val_loss_sum, val_acc_sum = 0.0, 0.0\n",
    "    \n",
    "    logger.info(f'Training begins: epochs={epochs}')\n",
    "    for epoch in range(epochs):\n",
    "        \n",
    "        #torch.cuda.empty_cache()\n",
    "        model.train()\n",
    "        \n",
    "        for idx, (train_X, train_Y) in enumerate(train_loader):    \n",
    "            \n",
    "            train_X = train_X.to(device)\n",
    "            train_Y = train_Y.to(device)\n",
    "            \n",
    "            optimizer.zero_grad()\n",
    "            \n",
    "            train_pred = model(train_X)\n",
    "            \n",
    "            train_loss = loss_function(train_pred, train_Y-1)\n",
    "            train_loss.backward()\n",
    "            optimizer.step()\n",
    "            \n",
    "            # Accuracy\n",
    "            pred_labels = torch.argmax(train_pred, axis=1)\n",
    "            train_acc = (pred_labels==(train_Y-1)).sum()\n",
    "            \n",
    "            train_acc_sum += train_acc.item()\n",
    "            train_loss_sum += train_loss.item()\n",
    "            \n",
    "        with torch.no_grad():\n",
    "            \n",
    "            for idx, (val_X, val_Y) in enumerate(val_loader):\n",
    "                \n",
    "                val_X, val_Y = val_X.to(device), val_Y.to(device)\n",
    "                val_pred = model(val_X)\n",
    "                val_loss = loss_function(val_pred, val_Y-1)\n",
    "                \n",
    "                val_pred_labels = torch.argmax(val_pred, axis=1)\n",
    "                val_acc = (val_pred_labels==(val_Y-1)).sum()\n",
    "                \n",
    "                val_acc_sum += val_acc.item()\n",
    "                val_loss_sum += val_loss.item()\n",
    "        \n",
    "        train_accuracy = train_acc_sum / train_tot_num * 100\n",
    "        val_accuracy = val_acc_sum / val_tot_num * 100\n",
    "        \n",
    "        print(f\"Epoch: {epoch+1} | Training Loss: {train_loss_sum/len(train_loader):.4f} | Val Loss: {val_loss_sum/len(val_loader):.4f} | \" \\\n",
    "              f\"Train Acc: {train_accuracy:.2f}% | Val Acc: {val_accuracy:.2f}%\")\n",
    "        \n",
    "        train_loss_sum, train_acc_sum = 0.0, 0.0\n",
    "        val_loss_sum, val_acc_sum = 0.0, 0.0\n",
    "        \n",
    "        early_stopping(-val_accuracy, model)\n",
    "\n",
    "        if early_stopping.early_stop:\n",
    "            print(\"Early stopping condition met --- TRAINING STOPPED\")\n",
    "            break\n",
    "        \n",
    "        lr_scheduler.step()\n",
    "        \n",
    "    return model"
   ]
  },
  {
   "cell_type": "code",
   "execution_count": 174,
   "metadata": {
    "scrolled": true
   },
   "outputs": [
    {
     "name": "stderr",
     "output_type": "stream",
     "text": [
      "2021-01-31 01:23:29,493 : Training begins: epochs=50\n"
     ]
    },
    {
     "name": "stdout",
     "output_type": "stream",
     "text": [
      "Epoch: 1 | Training Loss: 2.6198 | Val Loss: 2.5507 | Train Acc: 72.43% | Val Acc: 78.30%\n",
      "Epoch: 2 | Training Loss: 2.5263 | Val Loss: 2.5121 | Train Acc: 80.43% | Val Acc: 81.71%\n",
      "Epoch: 3 | Training Loss: 2.5018 | Val Loss: 2.5049 | Train Acc: 82.66% | Val Acc: 82.30%\n",
      "Epoch: 4 | Training Loss: 2.4831 | Val Loss: 2.4884 | Train Acc: 84.42% | Val Acc: 83.83%\n",
      "Epoch: 5 | Training Loss: 2.4689 | Val Loss: 2.4758 | Train Acc: 85.77% | Val Acc: 85.07%\n",
      "Epoch: 6 | Training Loss: 2.4559 | Val Loss: 2.4652 | Train Acc: 87.02% | Val Acc: 86.02%\n",
      "Epoch: 7 | Training Loss: 2.4505 | Val Loss: 2.4598 | Train Acc: 87.52% | Val Acc: 86.52%\n",
      "Epoch: 8 | Training Loss: 2.4474 | Val Loss: 2.4620 | Train Acc: 87.80% | Val Acc: 86.28%\n",
      "EarlyStopping counter: 1 out of 5\n",
      "Epoch: 9 | Training Loss: 2.4422 | Val Loss: 2.4522 | Train Acc: 88.25% | Val Acc: 87.12%\n",
      "Epoch: 10 | Training Loss: 2.4388 | Val Loss: 2.4524 | Train Acc: 88.59% | Val Acc: 87.18%\n",
      "Epoch: 11 | Training Loss: 2.4347 | Val Loss: 2.4519 | Train Acc: 88.97% | Val Acc: 87.32%\n",
      "Epoch: 12 | Training Loss: 2.4344 | Val Loss: 2.4491 | Train Acc: 89.02% | Val Acc: 87.47%\n",
      "Epoch: 13 | Training Loss: 2.4310 | Val Loss: 2.4497 | Train Acc: 89.34% | Val Acc: 87.36%\n",
      "EarlyStopping counter: 1 out of 5\n",
      "Epoch: 14 | Training Loss: 2.4291 | Val Loss: 2.4466 | Train Acc: 89.50% | Val Acc: 87.66%\n",
      "Epoch: 15 | Training Loss: 2.4280 | Val Loss: 2.4469 | Train Acc: 89.58% | Val Acc: 87.62%\n",
      "EarlyStopping counter: 1 out of 5\n",
      "Epoch: 16 | Training Loss: 2.4275 | Val Loss: 2.4430 | Train Acc: 89.63% | Val Acc: 88.11%\n",
      "Epoch: 17 | Training Loss: 2.4247 | Val Loss: 2.4470 | Train Acc: 89.89% | Val Acc: 87.65%\n",
      "EarlyStopping counter: 1 out of 5\n",
      "Epoch: 18 | Training Loss: 2.4250 | Val Loss: 2.4437 | Train Acc: 89.85% | Val Acc: 87.99%\n",
      "EarlyStopping counter: 2 out of 5\n",
      "Epoch: 19 | Training Loss: 2.4230 | Val Loss: 2.4440 | Train Acc: 90.08% | Val Acc: 87.92%\n",
      "EarlyStopping counter: 3 out of 5\n",
      "Epoch: 20 | Training Loss: 2.4223 | Val Loss: 2.4430 | Train Acc: 90.11% | Val Acc: 88.01%\n",
      "EarlyStopping counter: 4 out of 5\n",
      "Epoch: 21 | Training Loss: 2.4216 | Val Loss: 2.4429 | Train Acc: 90.19% | Val Acc: 88.02%\n",
      "EarlyStopping counter: 5 out of 5\n",
      "Early stopping condition met --- TRAINING STOPPED\n"
     ]
    }
   ],
   "source": [
    "learning_rate = 0.0025\n",
    "epochs = 50\n",
    "\n",
    "model_fit = train_model(epochs, learning_rate, train_loader, val_loader)"
   ]
  },
  {
   "cell_type": "markdown",
   "metadata": {},
   "source": [
    "## Call best model"
   ]
  },
  {
   "cell_type": "code",
   "execution_count": 175,
   "metadata": {},
   "outputs": [],
   "source": [
    "best_model = EmnistModel().to(device)"
   ]
  },
  {
   "cell_type": "code",
   "execution_count": 176,
   "metadata": {},
   "outputs": [
    {
     "data": {
      "text/plain": [
       "<All keys matched successfully>"
      ]
     },
     "execution_count": 176,
     "metadata": {},
     "output_type": "execute_result"
    }
   ],
   "source": [
    "PATH = './mnist_model_rasp.pth'\n",
    "best_model.load_state_dict(torch.load(PATH))"
   ]
  },
  {
   "cell_type": "markdown",
   "metadata": {},
   "source": [
    "## Test on testset"
   ]
  },
  {
   "cell_type": "code",
   "execution_count": 177,
   "metadata": {},
   "outputs": [
    {
     "name": "stdout",
     "output_type": "stream",
     "text": [
      "Testset Length: 20800\n",
      "Test Accuracy: 88.57%\n"
     ]
    }
   ],
   "source": [
    "best_model.eval()\n",
    "\n",
    "testset_num = test_loader.dataset.__len__()\n",
    "print(f\"Testset Length: {testset_num}\")\n",
    "\n",
    "test_acc_sum = 0.0\n",
    "for idx, (test_X, test_Y) in enumerate(test_loader):\n",
    "    teset_X, test_Y = test_X.to(device), test_Y.to(device)\n",
    "    \n",
    "    test_pred = best_model(teset_X)\n",
    "    test_pred_labels = torch.argmax(test_pred, axis=1)\n",
    "    test_acc = (test_pred_labels==(test_Y-1)).sum()\n",
    "    test_acc_sum += test_acc\n",
    "    \n",
    "print(f\"Test Accuracy: {(test_acc_sum / testset_num)*100:.2f}%\")"
   ]
  },
  {
   "cell_type": "markdown",
   "metadata": {},
   "source": [
    "## Test on single test image"
   ]
  },
  {
   "cell_type": "code",
   "execution_count": 178,
   "metadata": {},
   "outputs": [],
   "source": [
    "import string\n",
    "\n",
    "def test_single(trained_model, test_loader, i):\n",
    "    \n",
    "    alphabets = list(string.ascii_uppercase)\n",
    "    \n",
    "    trained_model.eval()\n",
    "    idx = i\n",
    "    \n",
    "    # Prediction\n",
    "    to_test = test_loader.dataset[i][0].to(device).unsqueeze(0)\n",
    "    pred_result = trained_model(to_test)\n",
    "    pred_label_idx = torch.argmax(pred_result)\n",
    "    pred_label = alphabets[pred_label_idx]\n",
    "    \n",
    "    # GT\n",
    "    to_test_img = test_loader.dataset[i][0].permute(1, 2, 0).numpy()\n",
    "    test_label_idx = test_loader.dataset[i][1] - 1\n",
    "    test_label = alphabets[test_label_idx]\n",
    "    \n",
    "    # Plot\n",
    "    print(f\"Ground Truth: {test_label}, Predicted as: {pred_label}\")\n",
    "    plt.imshow(to_test_img, cmap='gray')"
   ]
  },
  {
   "cell_type": "code",
   "execution_count": 191,
   "metadata": {},
   "outputs": [
    {
     "name": "stdout",
     "output_type": "stream",
     "text": [
      "Ground Truth: U, Predicted as: U\n"
     ]
    },
    {
     "data": {
      "image/png": "[encoded data removed]",
      "text/plain": [
       "<Figure size 432x288 with 1 Axes>"
      ]
     },
     "metadata": {
      "needs_background": "light"
     },
     "output_type": "display_data"
    }
   ],
   "source": [
    "import random\n",
    "i = random.randint(0, 20000)\n",
    "test_single(best_model, test_loader, i)"
   ]
  },
  {
   "cell_type": "markdown",
   "metadata": {},
   "source": [
    "## Load cropped images and test"
   ]
  },
  {
   "cell_type": "code",
   "execution_count": 205,
   "metadata": {},
   "outputs": [],
   "source": [
    "from PIL import Image"
   ]
  },
  {
   "cell_type": "code",
   "execution_count": 206,
   "metadata": {},
   "outputs": [],
   "source": [
    "cropped_base = Image.open('./test_sample.png')"
   ]
  },
  {
   "cell_type": "code",
   "execution_count": 207,
   "metadata": {},
   "outputs": [],
   "source": [
    "cropped_base = cv2.imread('./test_sample.png', cv2.IMREAD_GRAYSCALE)"
   ]
  },
  {
   "cell_type": "code",
   "execution_count": 208,
   "metadata": {},
   "outputs": [
    {
     "data": {
      "text/plain": [
       "<matplotlib.image.AxesImage at 0x7fa9e18fcdc0>"
      ]
     },
     "execution_count": 208,
     "metadata": {},
     "output_type": "execute_result"
    },
    {
     "data": {
      "image/png": "[encoded data removed]",
      "text/plain": [
       "<Figure size 432x288 with 1 Axes>"
      ]
     },
     "metadata": {
      "needs_background": "light"
     },
     "output_type": "display_data"
    }
   ],
   "source": [
    "plt.imshow(cropped_base, cmap='gray')"
   ]
  },
  {
   "cell_type": "code",
   "execution_count": 209,
   "metadata": {},
   "outputs": [],
   "source": [
    "single_transforms = transforms.Compose([\n",
    "        transforms.ToTensor(),\n",
    "        transforms.Normalize([0.5], [0.5])\n",
    "        ])"
   ]
  },
  {
   "cell_type": "code",
   "execution_count": 210,
   "metadata": {},
   "outputs": [],
   "source": [
    "cropped = single_transforms(cropped_base)\n",
    "#cropped = cropped[0].unsqueeze(0)"
   ]
  },
  {
   "cell_type": "code",
   "execution_count": 211,
   "metadata": {},
   "outputs": [
    {
     "data": {
      "text/plain": [
       "<matplotlib.image.AxesImage at 0x7fa9e18577f0>"
      ]
     },
     "execution_count": 211,
     "metadata": {},
     "output_type": "execute_result"
    },
    {
     "data": {
      "image/png": "[encoded data removed]",
      "text/plain": [
       "<Figure size 432x288 with 1 Axes>"
      ]
     },
     "metadata": {
      "needs_background": "light"
     },
     "output_type": "display_data"
    }
   ],
   "source": [
    "i = 500\n",
    "plt.imshow(test_loader.dataset[i][0].permute(1,2,0), cmap='gray')"
   ]
  },
  {
   "cell_type": "code",
   "execution_count": 212,
   "metadata": {
    "scrolled": true
   },
   "outputs": [
    {
     "data": {
      "text/plain": [
       "tensor([[[-1.0000, -1.0000, -1.0000, -1.0000, -1.0000, -1.0000, -1.0000,\n",
       "          -1.0000, -1.0000, -1.0000, -1.0000, -1.0000, -1.0000, -1.0000,\n",
       "          -1.0000, -1.0000, -1.0000, -1.0000, -1.0000, -1.0000, -1.0000,\n",
       "          -1.0000, -1.0000, -1.0000, -1.0000, -1.0000, -1.0000, -1.0000],\n",
       "         [-1.0000, -1.0000, -1.0000, -1.0000, -1.0000, -1.0000, -1.0000,\n",
       "          -1.0000, -1.0000, -1.0000, -1.0000, -1.0000, -1.0000, -1.0000,\n",
       "          -1.0000, -1.0000, -1.0000, -1.0000, -1.0000, -1.0000, -1.0000,\n",
       "          -1.0000, -1.0000, -1.0000, -1.0000, -1.0000, -1.0000, -1.0000],\n",
       "         [-1.0000, -1.0000, -1.0000, -1.0000, -1.0000, -1.0000, -1.0000,\n",
       "          -1.0000, -1.0000, -1.0000, -1.0000, -1.0000, -1.0000, -1.0000,\n",
       "          -0.9765, -0.8431, -0.8431, -0.9294, -0.9843, -1.0000, -1.0000,\n",
       "          -1.0000, -1.0000, -1.0000, -1.0000, -1.0000, -1.0000, -1.0000],\n",
       "         [-1.0000, -1.0000, -1.0000, -1.0000, -1.0000, -1.0000, -1.0000,\n",
       "          -1.0000, -1.0000, -1.0000, -1.0000, -1.0000, -0.9922, -0.8275,\n",
       "          -0.3412,  0.3333,  0.3412,  0.0902, -0.3882, -0.9373, -1.0000,\n",
       "          -1.0000, -1.0000, -1.0000, -1.0000, -1.0000, -1.0000, -1.0000],\n",
       "         [-1.0000, -1.0000, -1.0000, -1.0000, -1.0000, -1.0000, -1.0000,\n",
       "          -1.0000, -1.0000, -1.0000, -1.0000, -0.9922, -0.7255,  0.2549,\n",
       "           0.8196,  0.9529,  0.9608,  0.9529,  0.7176, -0.3882, -0.9843,\n",
       "          -1.0000, -1.0000, -1.0000, -1.0000, -1.0000, -1.0000, -1.0000],\n",
       "         [-1.0000, -1.0000, -1.0000, -1.0000, -1.0000, -1.0000, -1.0000,\n",
       "          -1.0000, -1.0000, -1.0000, -0.9294, -0.7255,  0.2863,  0.9294,\n",
       "           0.7569,  0.1137,  0.1529,  0.5059,  0.9529,  0.0039, -0.9608,\n",
       "          -1.0000, -1.0000, -1.0000, -1.0000, -1.0000, -1.0000, -1.0000],\n",
       "         [-1.0000, -1.0000, -1.0000, -1.0000, -1.0000, -1.0000, -1.0000,\n",
       "          -1.0000, -1.0000, -0.9765, -0.3804,  0.2549,  0.9294,  0.8353,\n",
       "          -0.0275, -0.8980, -0.6706,  0.0196,  0.9529,  0.3412, -0.8431,\n",
       "          -1.0000, -1.0000, -1.0000, -1.0000, -1.0000, -1.0000, -1.0000],\n",
       "         [-1.0000, -1.0000, -1.0000, -1.0000, -1.0000, -1.0000, -1.0000,\n",
       "          -1.0000, -1.0000, -0.9294, -0.0039,  0.6314,  0.9765,  0.4745,\n",
       "          -0.4667, -0.9765, -0.7020,  0.0039,  0.9608,  0.5059, -0.7804,\n",
       "          -1.0000, -1.0000, -1.0000, -1.0000, -1.0000, -1.0000, -1.0000],\n",
       "         [-1.0000, -1.0000, -1.0000, -1.0000, -1.0000, -1.0000, -1.0000,\n",
       "          -1.0000, -1.0000, -0.6392,  0.6471,  0.9294,  0.7412, -0.3725,\n",
       "          -0.9686, -1.0000, -0.7098,  0.0039,  0.9373,  0.0980, -0.9294,\n",
       "          -1.0000, -1.0000, -1.0000, -1.0000, -1.0000, -1.0000, -1.0000],\n",
       "         [-1.0000, -1.0000, -1.0000, -1.0000, -1.0000, -1.0000, -1.0000,\n",
       "          -1.0000, -0.9294,  0.0039,  0.9294,  0.9216,  0.0039, -0.9216,\n",
       "          -1.0000, -1.0000, -0.6784,  0.0118,  0.7804, -0.3569, -0.9843,\n",
       "          -1.0000, -1.0000, -1.0000, -1.0000, -1.0000, -1.0000, -1.0000],\n",
       "         [-1.0000, -1.0000, -1.0000, -1.0000, -1.0000, -1.0000, -1.0000,\n",
       "          -1.0000, -0.6392,  0.6471,  0.8431,  0.3961, -0.7333, -1.0000,\n",
       "          -1.0000, -0.8510, -0.0118,  0.3412, -0.0118, -0.8431, -1.0000,\n",
       "          -1.0000, -1.0000, -1.0000, -1.0000, -1.0000, -1.0000, -1.0000],\n",
       "         [-1.0000, -1.0000, -1.0000, -1.0000, -1.0000, -1.0000, -1.0000,\n",
       "          -0.9686, -0.0980,  0.9294,  0.6078, -0.0902, -0.9686, -1.0000,\n",
       "          -0.9922, -0.5922,  0.6471,  0.5608, -0.7176, -1.0000, -1.0000,\n",
       "          -1.0000, -1.0000, -1.0000, -1.0000, -1.0000, -1.0000, -1.0000],\n",
       "         [-1.0000, -1.0000, -1.0000, -1.0000, -1.0000, -1.0000, -1.0000,\n",
       "          -0.9294,  0.1059,  0.9451,  0.0980, -0.6078, -1.0000, -1.0000,\n",
       "          -0.8275,  0.2549,  0.6784,  0.0902, -0.9294, -1.0000, -1.0000,\n",
       "          -1.0000, -1.0000, -1.0000, -1.0000, -1.0000, -1.0000, -1.0000],\n",
       "         [-1.0000, -1.0000, -1.0000, -1.0000, -1.0000, -1.0000, -1.0000,\n",
       "          -0.7412,  0.6078,  0.8353, -0.3490, -0.8353, -1.0000, -0.9451,\n",
       "          -0.2549,  0.7647,  0.2549, -0.3725, -0.9686, -1.0000, -1.0000,\n",
       "          -1.0000, -1.0000, -1.0000, -1.0000, -1.0000, -1.0000, -1.0000],\n",
       "         [-1.0000, -1.0000, -1.0000, -1.0000, -1.0000, -1.0000, -1.0000,\n",
       "          -0.7098,  0.6941,  0.7490, -0.6000, -0.9294, -1.0000, -0.8118,\n",
       "           0.2549,  0.7020, -0.2078, -0.5765, -0.8431, -0.9922, -1.0000,\n",
       "          -1.0000, -1.0000, -1.0000, -1.0000, -1.0000, -1.0000, -1.0000],\n",
       "         [-1.0000, -1.0000, -1.0000, -1.0000, -1.0000, -1.0000, -1.0000,\n",
       "          -0.7098,  0.7098,  0.7098, -0.7020, -0.9686, -0.8588, -0.0118,\n",
       "           0.8353,  0.6157,  0.1765,  0.3490,  0.1059, -0.8745, -1.0000,\n",
       "          -1.0000, -1.0000, -1.0000, -1.0000, -1.0000, -1.0000, -1.0000],\n",
       "         [-1.0000, -1.0000, -1.0000, -1.0000, -1.0000, -1.0000, -1.0000,\n",
       "          -0.7098,  0.7098,  0.7490, -0.6000, -0.9294, -0.8510,  0.1843,\n",
       "           0.8431,  0.9843,  0.9765,  0.9765,  0.4902, -0.6941, -1.0000,\n",
       "          -1.0000, -1.0000, -1.0000, -1.0000, -1.0000, -1.0000, -1.0000],\n",
       "         [-1.0000, -1.0000, -1.0000, -1.0000, -1.0000, -1.0000, -1.0000,\n",
       "          -0.7098,  0.7020,  0.9294, -0.0824, -0.7098, -0.9686, -0.7569,\n",
       "           0.2549,  0.9843,  1.0000,  0.9922,  0.9294, -0.0039, -0.9373,\n",
       "          -1.0000, -1.0000, -1.0000, -1.0000, -1.0000, -1.0000, -1.0000],\n",
       "         [-1.0000, -1.0000, -1.0000, -1.0000, -1.0000, -1.0000, -1.0000,\n",
       "          -0.8353,  0.3412,  0.9686,  0.5059,  0.1373, -0.3333, -0.2235,\n",
       "           0.7412,  0.9373,  0.5059,  0.5137,  0.9451,  0.6078, -0.7412,\n",
       "          -1.0000, -1.0000, -1.0000, -1.0000, -1.0000, -1.0000, -1.0000],\n",
       "         [-1.0000, -1.0000, -1.0000, -1.0000, -1.0000, -1.0000, -1.0000,\n",
       "          -0.9765, -0.3804,  0.6314,  0.9294,  0.9608,  0.8431,  0.8431,\n",
       "           0.8196,  0.2549, -0.6471, -0.5294,  0.7490,  0.7098, -0.7098,\n",
       "          -1.0000, -1.0000, -1.0000, -1.0000, -1.0000, -1.0000, -1.0000],\n",
       "         [-1.0000, -1.0000, -1.0000, -1.0000, -1.0000, -1.0000, -1.0000,\n",
       "          -1.0000, -0.9451, -0.6235,  0.2549,  0.6314,  0.8902,  0.6314,\n",
       "          -0.2549, -0.8275, -0.9529, -0.7020,  0.7098,  0.7098, -0.7098,\n",
       "          -1.0000, -1.0000, -1.0000, -1.0000, -1.0000, -1.0000, -1.0000],\n",
       "         [-1.0000, -1.0000, -1.0000, -1.0000, -1.0000, -1.0000, -1.0000,\n",
       "          -1.0000, -1.0000, -0.9216, -0.3804, -0.0039,  0.4980, -0.0039,\n",
       "          -0.7333, -0.9765, -0.9686, -0.7098,  0.7098,  0.7098, -0.7098,\n",
       "          -1.0000, -1.0000, -1.0000, -1.0000, -1.0000, -1.0000, -1.0000],\n",
       "         [-1.0000, -1.0000, -1.0000, -1.0000, -1.0000, -1.0000, -1.0000,\n",
       "          -1.0000, -1.0000, -1.0000, -0.9765, -0.9373, -0.7804, -0.9373,\n",
       "          -1.0000, -1.0000, -0.9686, -0.7098,  0.7020,  0.6078, -0.7412,\n",
       "          -1.0000, -1.0000, -1.0000, -1.0000, -1.0000, -1.0000, -1.0000],\n",
       "         [-1.0000, -1.0000, -1.0000, -1.0000, -1.0000, -1.0000, -1.0000,\n",
       "          -1.0000, -1.0000, -1.0000, -1.0000, -1.0000, -1.0000, -1.0000,\n",
       "          -1.0000, -1.0000, -0.9686, -0.7098,  0.6627,  0.1059, -0.9294,\n",
       "          -1.0000, -1.0000, -1.0000, -1.0000, -1.0000, -1.0000, -1.0000],\n",
       "         [-1.0000, -1.0000, -1.0000, -1.0000, -1.0000, -1.0000, -1.0000,\n",
       "          -1.0000, -1.0000, -1.0000, -1.0000, -1.0000, -1.0000, -1.0000,\n",
       "          -1.0000, -1.0000, -0.9843, -0.8431,  0.1765, -0.1608, -0.9686,\n",
       "          -1.0000, -1.0000, -1.0000, -1.0000, -1.0000, -1.0000, -1.0000],\n",
       "         [-1.0000, -1.0000, -1.0000, -1.0000, -1.0000, -1.0000, -1.0000,\n",
       "          -1.0000, -1.0000, -1.0000, -1.0000, -1.0000, -1.0000, -1.0000,\n",
       "          -1.0000, -1.0000, -1.0000, -0.9922, -0.8510, -0.8588, -1.0000,\n",
       "          -1.0000, -1.0000, -1.0000, -1.0000, -1.0000, -1.0000, -1.0000],\n",
       "         [-1.0000, -1.0000, -1.0000, -1.0000, -1.0000, -1.0000, -1.0000,\n",
       "          -1.0000, -1.0000, -1.0000, -1.0000, -1.0000, -1.0000, -1.0000,\n",
       "          -1.0000, -1.0000, -1.0000, -1.0000, -1.0000, -1.0000, -1.0000,\n",
       "          -1.0000, -1.0000, -1.0000, -1.0000, -1.0000, -1.0000, -1.0000],\n",
       "         [-1.0000, -1.0000, -1.0000, -1.0000, -1.0000, -1.0000, -1.0000,\n",
       "          -1.0000, -1.0000, -1.0000, -1.0000, -1.0000, -1.0000, -1.0000,\n",
       "          -1.0000, -1.0000, -1.0000, -1.0000, -1.0000, -1.0000, -1.0000,\n",
       "          -1.0000, -1.0000, -1.0000, -1.0000, -1.0000, -1.0000, -1.0000]]])"
      ]
     },
     "execution_count": 212,
     "metadata": {},
     "output_type": "execute_result"
    }
   ],
   "source": [
    "test_loader.dataset[i][0]"
   ]
  },
  {
   "cell_type": "code",
   "execution_count": null,
   "metadata": {},
   "outputs": [],
   "source": []
  },
  {
   "cell_type": "code",
   "execution_count": 213,
   "metadata": {},
   "outputs": [],
   "source": [
    "#cv2.adaptiveThreshold(cropped.numpy(), 0.3, cv2.ADAPTIVE_THRESH_GAUSSIAN_C, cv2.THRESH_BINARY, 11, 2)"
   ]
  },
  {
   "cell_type": "code",
   "execution_count": 214,
   "metadata": {},
   "outputs": [
    {
     "data": {
      "text/plain": [
       "<matplotlib.image.AxesImage at 0x7fa9e17e8d60>"
      ]
     },
     "execution_count": 214,
     "metadata": {},
     "output_type": "execute_result"
    },
    {
     "data": {
      "image/png": "[encoded data removed]",
      "text/plain": [
       "<Figure size 432x288 with 1 Axes>"
      ]
     },
     "metadata": {
      "needs_background": "light"
     },
     "output_type": "display_data"
    }
   ],
   "source": [
    "plt.imshow(cropped.permute(1, 2, 0), cmap='gray')"
   ]
  },
  {
   "cell_type": "code",
   "execution_count": 215,
   "metadata": {
    "scrolled": true
   },
   "outputs": [
    {
     "data": {
      "text/plain": [
       "tensor([[[-0.9765, -0.9451, -0.9608, -0.9608, -0.9608, -0.9608, -0.9608,\n",
       "          -0.9451, -0.9137, -0.9922, -0.9608, -1.0000, -1.0000, -0.9922,\n",
       "          -0.9922, -0.9922, -0.9608, -0.9608, -0.9922, -1.0000, -0.9294,\n",
       "          -0.9608, -0.9765, -0.9922, -1.0000, -0.9137, -0.9137, -0.9137],\n",
       "         [-0.9922, -0.9294, -0.9608, -0.9608, -0.9608, -0.9608, -0.9608,\n",
       "          -0.9608, -0.9451, -1.0000, -0.9922, -0.9608, -1.0000, -1.0000,\n",
       "          -1.0000, -1.0000, -0.9922, -1.0000, -1.0000, -0.9451, -0.9765,\n",
       "          -0.9922, -0.9922, -1.0000, -0.9294, -0.9608, -0.9608, -0.9765],\n",
       "         [-0.9922, -0.9922, -0.9451, -0.9608, -0.9608, -0.9608, -0.9608,\n",
       "          -0.9608, -0.9608, -0.9608, -0.9608, -0.9765, -0.9922, -1.0000,\n",
       "          -1.0000, -1.0000, -0.9922, -1.0000, -1.0000, -0.9922, -0.9922,\n",
       "          -0.9608, -0.9608, -0.9608, -0.9608, -0.9765, -1.0000, -0.9451],\n",
       "         [-0.9765, -1.0000, -0.9294, -0.9608, -0.9608, -0.9608, -0.9608,\n",
       "          -0.9608, -0.9608, -0.9765, -1.0000, -0.9765, -1.0000, -1.0000,\n",
       "          -1.0000, -1.0000, -1.0000, -1.0000, -1.0000, -1.0000, -0.9922,\n",
       "          -0.9765, -0.9608, -0.9608, -0.9765, -0.9608, -0.9294, -0.9294],\n",
       "         [-0.9608, -0.9922, -0.9765, -0.9608, -0.9608, -0.9608, -0.9608,\n",
       "          -0.9608, -0.9922, -1.0000, -0.9922, -0.9922, -0.9294, -0.7725,\n",
       "          -0.8510, -0.8824, -0.8667, -0.9294, -1.0000, -1.0000, -1.0000,\n",
       "          -1.0000, -0.9922, -0.9608, -0.9922, -0.9137, -0.9451, -0.9451],\n",
       "         [-0.9608, -0.9765, -0.9608, -0.9608, -0.9608, -0.9608, -0.9608,\n",
       "          -0.9608, -0.9765, -0.9608, -1.0000, -0.8824, -0.8196, -0.6471,\n",
       "          -0.6000, -0.6941, -0.8039, -0.8510, -0.9451, -1.0000, -1.0000,\n",
       "          -1.0000, -0.9765, -0.9765, -0.9922, -0.9294, -0.9451, -0.9451],\n",
       "         [-0.9451, -0.9765, -0.9608, -0.9608, -0.9608, -0.9608, -0.9922,\n",
       "          -0.9451, -1.0000, -1.0000, -1.0000, -0.8353, -0.6157, -0.2078,\n",
       "           0.0588,  0.0902,  0.0118, -0.0510, -0.2549, -0.6314, -1.0000,\n",
       "          -1.0000, -1.0000, -0.9608, -0.9294, -0.9451, -0.9451, -0.9451],\n",
       "         [-0.9451, -0.9765, -0.9608, -0.9451, -0.9608, -0.9922, -0.9451,\n",
       "          -1.0000, -1.0000, -1.0000, -0.9765, -0.6627, -0.0980,  0.4510,\n",
       "           0.7804,  0.9216,  0.9216,  0.8588,  0.7961,  0.5608, -0.2392,\n",
       "          -1.0000, -1.0000, -0.9451, -0.9608, -0.9451, -0.9451, -0.9451],\n",
       "         [-0.9451, -0.9765, -1.0000, -0.9294, -0.9608, -0.9765, -1.0000,\n",
       "          -1.0000, -0.9922, -0.8510, -0.6000, -0.2392,  0.2000,  0.4510,\n",
       "           0.7333,  0.9373,  0.9843,  1.0000,  1.0000,  1.0000,  0.8275,\n",
       "          -0.3176, -1.0000, -1.0000, -0.9765, -0.9608, -0.9451, -0.9451],\n",
       "         [-1.0000, -0.9765, -0.9765, -1.0000, -0.9608, -1.0000, -1.0000,\n",
       "          -0.9608, -0.7098, -0.6157, -0.7098, -0.6941, -0.4588, -0.3020,\n",
       "          -0.1137,  0.2471,  0.6392,  0.8118,  0.9373,  1.0000,  1.0000,\n",
       "           0.7647, -0.7882, -1.0000, -0.9922, -0.9608, -0.9451, -0.9451],\n",
       "         [-1.0000, -0.9451, -0.9765, -1.0000, -1.0000, -1.0000, -1.0000,\n",
       "          -0.9451, -0.3020, -0.1922, -0.4431, -0.6784, -0.9765, -1.0000,\n",
       "          -0.9137, -0.6000, -0.0196,  0.3725,  0.6392,  0.8275,  1.0000,\n",
       "           0.9843,  0.3569, -1.0000, -1.0000, -0.9765, -0.9451, -0.9451],\n",
       "         [-1.0000, -1.0000, -0.9608, -1.0000, -1.0000, -1.0000, -1.0000,\n",
       "          -0.4588,  0.5137,  0.4510,  0.3882,  0.2627, -0.1137, -0.6314,\n",
       "          -1.0000, -1.0000, -0.7569, -0.0510,  0.4039,  0.5451,  0.8588,\n",
       "           1.0000,  0.9529, -0.2549, -1.0000, -0.9765, -0.9451, -0.9451],\n",
       "         [-0.9922, -1.0000, -0.9608, -1.0000, -0.9608, -1.0000, -0.8510,\n",
       "           0.3725,  0.9373,  0.9843,  1.0000,  0.9373,  0.7804,  0.4353,\n",
       "          -0.3176, -1.0000, -1.0000, -0.8196, -0.1608,  0.3412,  0.5922,\n",
       "           1.0000,  0.9843,  0.2157, -1.0000, -0.9294, -0.9294, -0.9137],\n",
       "         [-0.9765, -1.0000, -1.0000, -1.0000, -1.0000, -1.0000,  0.1059,\n",
       "           0.8588,  0.9529,  0.8431,  0.8431,  0.9216,  1.0000,  1.0000,\n",
       "           0.7490, -0.1294, -1.0000, -1.0000, -0.8824, -0.1137,  0.3255,\n",
       "           0.8588,  0.9059,  0.1529, -1.0000, -0.9294, -1.0000, -0.9765],\n",
       "         [-0.9922, -0.9765, -0.9922, -1.0000, -1.0000, -0.4902,  0.7647,\n",
       "           0.9686,  0.6863,  0.5451,  0.4980,  0.6078,  0.7333,  0.9529,\n",
       "           1.0000,  0.8431, -0.0510, -0.9765, -1.0000, -0.6157, -0.1294,\n",
       "           0.5922,  0.9216, -0.0824, -1.0000, -0.9294, -0.9451, -0.9608],\n",
       "         [-1.0000, -0.9608, -1.0000, -1.0000, -0.8353,  0.2784,  0.9843,\n",
       "           0.8275,  0.5451,  0.4980,  0.5765,  0.4824,  0.4667,  0.5608,\n",
       "           0.9529,  1.0000,  0.9216,  0.0118, -0.8980, -0.7255, -0.2549,\n",
       "           0.6078,  0.7804, -0.5843, -1.0000, -0.9137, -1.0000, -0.9608],\n",
       "         [-1.0000, -1.0000, -0.9922, -1.0000, -0.7569,  0.3255,  0.9843,\n",
       "           0.7333,  0.5137,  0.4980,  0.4980,  0.6078,  0.5294,  0.4980,\n",
       "           0.4980,  0.9529,  1.0000,  0.8902, -0.0510, -0.6157,  0.0431,\n",
       "           0.9059,  0.4353, -1.0000, -1.0000, -0.9765, -0.9765, -0.9765],\n",
       "         [-0.9922, -1.0000, -1.0000, -1.0000, -0.9922, -0.0039,  0.9686,\n",
       "           0.9059,  0.5765,  0.5451,  0.5608,  0.5294,  0.5451,  0.5294,\n",
       "           0.4824,  0.5608,  0.9059,  1.0000,  0.8118,  0.2000,  0.5765,\n",
       "           0.8275, -0.4431, -1.0000, -1.0000, -0.9608, -0.9765, -0.9608],\n",
       "         [-1.0000, -1.0000, -1.0000, -1.0000, -1.0000, -0.6627,  0.5451,\n",
       "           1.0000,  0.8588,  0.6392,  0.5608,  0.5922,  0.5137,  0.5137,\n",
       "           0.4667,  0.4196,  0.5137,  0.8745,  0.9843,  0.8118,  0.7333,\n",
       "          -0.0353, -1.0000, -1.0000, -1.0000, -0.9765, -1.0000, -1.0000],\n",
       "         [-1.0000, -1.0000, -1.0000, -1.0000, -1.0000, -1.0000, -0.3020,\n",
       "           0.7804,  1.0000,  0.9686,  0.9373,  0.8902,  0.8902,  0.9059,\n",
       "           0.9216,  0.8902,  0.8118,  0.8902,  1.0000,  1.0000,  0.0118,\n",
       "          -0.9922, -1.0000, -1.0000, -0.9451, -1.0000, -0.9451, -0.9765],\n",
       "         [-1.0000, -1.0000, -1.0000, -1.0000, -1.0000, -1.0000, -1.0000,\n",
       "          -0.1294,  0.7804,  0.9059,  0.9529,  0.9529,  0.9529,  0.9529,\n",
       "           0.9529,  0.9529,  0.9529,  0.9373,  0.9059,  0.0902, -0.9765,\n",
       "          -1.0000, -1.0000, -1.0000, -0.9922, -0.9608, -1.0000, -1.0000],\n",
       "         [-1.0000, -1.0000, -1.0000, -1.0000, -1.0000, -1.0000, -1.0000,\n",
       "          -1.0000, -0.5059, -0.0196,  0.2627,  0.2784,  0.3098,  0.3098,\n",
       "           0.3098,  0.2941,  0.3098,  0.2471, -0.0510, -0.9765, -1.0000,\n",
       "          -1.0000, -1.0000, -0.9922, -0.9608, -0.9922, -0.9922, -1.0000],\n",
       "         [-1.0000, -1.0000, -1.0000, -1.0000, -1.0000, -1.0000, -1.0000,\n",
       "          -1.0000, -1.0000, -0.9765, -0.7725, -0.6471, -0.7098, -0.7255,\n",
       "          -0.7412, -0.7255, -0.7569, -0.7412, -1.0000, -1.0000, -1.0000,\n",
       "          -1.0000, -0.9608, -1.0000, -0.9294, -1.0000, -0.9765, -1.0000],\n",
       "         [-1.0000, -1.0000, -1.0000, -1.0000, -1.0000, -1.0000, -1.0000,\n",
       "          -1.0000, -1.0000, -1.0000, -1.0000, -1.0000, -1.0000, -1.0000,\n",
       "          -1.0000, -1.0000, -1.0000, -1.0000, -1.0000, -1.0000, -1.0000,\n",
       "          -0.9922, -0.9137, -1.0000, -0.9451, -1.0000, -0.9608, -1.0000],\n",
       "         [-1.0000, -1.0000, -1.0000, -1.0000, -1.0000, -1.0000, -1.0000,\n",
       "          -1.0000, -1.0000, -1.0000, -1.0000, -1.0000, -1.0000, -1.0000,\n",
       "          -1.0000, -1.0000, -1.0000, -1.0000, -1.0000, -1.0000, -0.9765,\n",
       "          -0.9608, -1.0000, -0.9922, -0.9451, -0.9765, -0.9922, -1.0000],\n",
       "         [-1.0000, -1.0000, -1.0000, -1.0000, -1.0000, -1.0000, -1.0000,\n",
       "          -1.0000, -1.0000, -1.0000, -1.0000, -1.0000, -1.0000, -1.0000,\n",
       "          -0.9608, -0.9765, -0.9294, -0.9608, -0.9608, -0.9608, -0.9608,\n",
       "          -0.9608, -0.9922, -0.9765, -0.9294, -0.9922, -1.0000, -1.0000],\n",
       "         [-1.0000, -1.0000, -1.0000, -1.0000, -1.0000, -1.0000, -1.0000,\n",
       "          -1.0000, -1.0000, -1.0000, -1.0000, -1.0000, -0.9922, -1.0000,\n",
       "          -0.9608, -0.9922, -0.9137, -0.9608, -0.9608, -0.9608, -0.9608,\n",
       "          -0.9451, -0.9765, -0.9765, -0.9922, -0.9765, -1.0000, -1.0000],\n",
       "         [-1.0000, -1.0000, -1.0000, -1.0000, -1.0000, -1.0000, -1.0000,\n",
       "          -1.0000, -1.0000, -1.0000, -1.0000, -1.0000, -0.9922, -1.0000,\n",
       "          -0.9451, -0.9765, -1.0000, -0.9451, -0.9608, -0.9608, -0.9608,\n",
       "          -0.9451, -1.0000, -0.9608, -1.0000, -0.9765, -1.0000, -1.0000]]])"
      ]
     },
     "execution_count": 215,
     "metadata": {},
     "output_type": "execute_result"
    }
   ],
   "source": [
    "cropped"
   ]
  },
  {
   "cell_type": "code",
   "execution_count": 238,
   "metadata": {},
   "outputs": [],
   "source": [
    "C = np.where(cropped.numpy() < 0.0, -1.0, cropped.numpy())\n",
    "#C = np.where((C >= 0.8) & (C <= 0.8), 0.8, cropped.numpy())"
   ]
  },
  {
   "cell_type": "code",
   "execution_count": 239,
   "metadata": {},
   "outputs": [
    {
     "data": {
      "text/plain": [
       "<matplotlib.image.AxesImage at 0x7fa9e8f18550>"
      ]
     },
     "execution_count": 239,
     "metadata": {},
     "output_type": "execute_result"
    },
    {
     "data": {
      "image/png": "[encoded data removed]",
      "text/plain": [
       "<Figure size 432x288 with 1 Axes>"
      ]
     },
     "metadata": {
      "needs_background": "light"
     },
     "output_type": "display_data"
    }
   ],
   "source": [
    "plt.imshow(C.transpose((1,2,0)), cmap='gray')"
   ]
  },
  {
   "cell_type": "code",
   "execution_count": 240,
   "metadata": {},
   "outputs": [],
   "source": [
    "D = torch.tensor(C)"
   ]
  },
  {
   "cell_type": "code",
   "execution_count": 241,
   "metadata": {},
   "outputs": [
    {
     "data": {
      "text/plain": [
       "'O'"
      ]
     },
     "execution_count": 241,
     "metadata": {},
     "output_type": "execute_result"
    }
   ],
   "source": [
    "alphabets = list(string.ascii_uppercase)\n",
    "\n",
    "model_fit.eval()\n",
    "crop_test_idx = model_fit(D.unsqueeze(0).float().to(device))\n",
    "max_pred = torch.argmax(crop_test_idx)\n",
    "\n",
    "alphabets[max_pred]"
   ]
  },
  {
   "cell_type": "code",
   "execution_count": 242,
   "metadata": {},
   "outputs": [
    {
     "data": {
      "text/plain": [
       "tensor([[2.7996e-10, 7.3474e-12, 3.2552e-14, 5.0549e-08, 3.8182e-17, 1.9969e-27,\n",
       "         2.6800e-16, 7.8523e-16, 4.1618e-22, 5.6891e-14, 5.8791e-25, 7.0818e-24,\n",
       "         4.0735e-16, 1.6086e-09, 1.0000e+00, 8.8018e-24, 6.1310e-23, 6.0926e-15,\n",
       "         5.7337e-08, 2.2957e-28, 1.4067e-14, 4.6234e-21, 8.1736e-19, 1.3445e-18,\n",
       "         9.0976e-18, 8.1618e-22]], device='cuda:0', grad_fn=<SoftmaxBackward>)"
      ]
     },
     "execution_count": 242,
     "metadata": {},
     "output_type": "execute_result"
    }
   ],
   "source": [
    "crop_test_idx"
   ]
  },
  {
   "cell_type": "code",
   "execution_count": null,
   "metadata": {},
   "outputs": [],
   "source": []
  },
  {
   "cell_type": "code",
   "execution_count": 165,
   "metadata": {},
   "outputs": [
    {
     "data": {
      "text/plain": [
       "torch.Size([1, 28, 28])"
      ]
     },
     "execution_count": 165,
     "metadata": {},
     "output_type": "execute_result"
    }
   ],
   "source": [
    "test_loader.dataset[100][0].shape"
   ]
  },
  {
   "cell_type": "code",
   "execution_count": null,
   "metadata": {},
   "outputs": [],
   "source": []
  }
 ],
 "metadata": {
  "kernelspec": {
   "display_name": "dacon",
   "language": "python",
   "name": "dacon"
  },
  "language_info": {
   "codemirror_mode": {
    "name": "ipython",
    "version": 3
   },
   "file_extension": ".py",
   "mimetype": "text/x-python",
   "name": "python",
   "nbconvert_exporter": "python",
   "pygments_lexer": "ipython3",
   "version": "3.8.5"
  }
 },
 "nbformat": 4,
 "nbformat_minor": 4
}
