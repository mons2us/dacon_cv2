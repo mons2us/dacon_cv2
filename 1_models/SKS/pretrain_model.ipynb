{
 "cells": [
  {
   "cell_type": "code",
   "execution_count": 1,
   "metadata": {},
   "outputs": [],
   "source": [
    "import os\n",
    "import csv\n",
    "import cv2\n",
    "import argparse\n",
    "import numpy as np\n",
    "import pandas as pd\n",
    "import matplotlib.pyplot as plt\n",
    "from PIL import Image\n",
    "from sklearn.model_selection import KFold\n",
    "import random\n",
    "\n",
    "import torch\n",
    "import torch.optim as optim\n",
    "from torch import nn\n",
    "from torch.utils.data import Dataset, DataLoader\n",
    "from torch.cuda import amp\n",
    "\n",
    "import torchvision\n",
    "from torchvision import transforms\n",
    "\n",
    "\n",
    "from utils.imageprocess import image_transformer, image_processor\n",
    "from utils.EarlyStopping import EarlyStopping\n",
    "from utils.dataloader import CustomDataLoader\n",
    "from utils.radams import RAdam\n",
    "\n",
    "from warmup_scheduler import GradualWarmupScheduler\n",
    "\n",
    "from tqdm import tqdm\n",
    "import logging"
   ]
  },
  {
   "cell_type": "code",
   "execution_count": 2,
   "metadata": {},
   "outputs": [],
   "source": [
    "from src.model import PlainResnet50, CustomResnet50, PlainEfficientnetB4"
   ]
  },
  {
   "cell_type": "code",
   "execution_count": 3,
   "metadata": {},
   "outputs": [],
   "source": [
    "logger = logging.getLogger(__name__)\n",
    "logging.basicConfig(format=\"%(asctime)s : %(message)s\", \n",
    "                    level=logging.INFO,\n",
    "                    handlers=[\n",
    "                        logging.FileHandler('./logs/pretraining_log'),\n",
    "                        logging.StreamHandler()\n",
    "                    ])"
   ]
  },
  {
   "cell_type": "code",
   "execution_count": 4,
   "metadata": {},
   "outputs": [],
   "source": [
    "# Early Stopper\n",
    "from utils.EarlyStopping import EarlyStopping"
   ]
  },
  {
   "cell_type": "code",
   "execution_count": 5,
   "metadata": {},
   "outputs": [
    {
     "name": "stdout",
     "output_type": "stream",
     "text": [
      "Current Device: cuda:0\n"
     ]
    }
   ],
   "source": [
    "device = torch.device(\"cuda:0\" if torch.cuda.is_available() else \"cpu\")\n",
    "print(f\"Current Device: {device}\")"
   ]
  },
  {
   "cell_type": "code",
   "execution_count": 6,
   "metadata": {
    "scrolled": true
   },
   "outputs": [],
   "source": [
    "transform_dict = {\n",
    "    'train': transforms.Compose([\n",
    "        transforms.ToTensor(),\n",
    "        transforms.Resize((40, 40)),\n",
    "        transforms.Pad(108, fill=0, padding_mode='constant'),\n",
    "        transforms.Lambda(lambda x: x.repeat(3, 1, 1)),\n",
    "        \n",
    "        transforms.RandomPerspective(distortion_scale=0.3, p=0.5),\n",
    "        transforms.RandomAffine(degrees=0,\n",
    "                                translate=(0.3, 0.3),\n",
    "                                fillcolor=0),\n",
    "        transforms.RandomAffine(degrees=0,\n",
    "                                shear=(0, 10, 0, 10)),\n",
    "        \n",
    "        #transforms.Normalize([0.485, 0.456, 0.406], [0.229, 0.224, 0.225]),\n",
    "        transforms.Normalize([0.5, 0.5, 0.5], [0.5, 0.5, 0.5]),\n",
    "    ]),\n",
    "    'test': transforms.Compose([\n",
    "        transforms.ToTensor(),\n",
    "        transforms.Resize((40, 40)),\n",
    "        transforms.Pad(108, fill=0, padding_mode='constant'),\n",
    "        transforms.Lambda(lambda x: x.repeat(3, 1, 1)),\n",
    "        transforms.Normalize([0.5, 0.5, 0.5], [0.5, 0.5, 0.5]),\n",
    "    ])\n",
    "}\n",
    "\n",
    "trainset = torchvision.datasets.EMNIST(root='./dataset/emnist_dataset',\n",
    "                                       split='letters',\n",
    "                                       train=True,\n",
    "                                       download=True,\n",
    "                                       transform=transform_dict['train'])\n",
    "\n",
    "testset = torchvision.datasets.EMNIST(root='./dataset/emnist_dataset',\n",
    "                                      split='letters',\n",
    "                                      train=False,\n",
    "                                      download=True,\n",
    "                                      transform=transform_dict['test'])"
   ]
  },
  {
   "cell_type": "code",
   "execution_count": 7,
   "metadata": {},
   "outputs": [
    {
     "name": "stderr",
     "output_type": "stream",
     "text": [
      "/home/sks/anaconda3/envs/dacon/lib/python3.8/site-packages/torchvision/transforms/functional_tensor.py:876: UserWarning: Argument fill/fillcolor is not supported for Tensor input. Fill value is zero\n",
      "  warnings.warn(\"Argument fill/fillcolor is not supported for Tensor input. Fill value is zero\")\n",
      "2021-02-12 13:01:05,219 : Clipping input data to the valid range for imshow with RGB data ([0..1] for floats or [0..255] for integers).\n"
     ]
    },
    {
     "data": {
      "text/plain": [
       "<matplotlib.image.AxesImage at 0x7f725c26db20>"
      ]
     },
     "execution_count": 7,
     "metadata": {},
     "output_type": "execute_result"
    },
    {
     "data": {
      "image/png": "[encoded data removed]",
      "text/plain": [
       "<Figure size 432x288 with 1 Axes>"
      ]
     },
     "metadata": {
      "needs_background": "light"
     },
     "output_type": "display_data"
    }
   ],
   "source": [
    "plt.imshow(trainset[2][0].permute(1,2,0))"
   ]
  },
  {
   "cell_type": "code",
   "execution_count": 8,
   "metadata": {},
   "outputs": [],
   "source": [
    "# train_ratio = 0.8\n",
    "# train_len = int(len(trainset) * train_ratio)\n",
    "# val_len = len(trainset) - train_len\n",
    "# logger.info(f'Train Length: {train_len}, Validation Length: {val_len}')"
   ]
  },
  {
   "cell_type": "code",
   "execution_count": 9,
   "metadata": {},
   "outputs": [],
   "source": [
    "# train_set, val_set = torch.utils.data.random_split(trainset, lengths=[train_len, val_len])"
   ]
  },
  {
   "cell_type": "code",
   "execution_count": 10,
   "metadata": {},
   "outputs": [],
   "source": [
    "batch_size = 32\n",
    "\n",
    "train_loader = torch.utils.data.DataLoader(trainset, batch_size=batch_size, shuffle=True)\n",
    "#val_loader = torch.utils.data.DataLoader(val_set, batch_size=batch_size, shuffle=False)\n",
    "test_loader = torch.utils.data.DataLoader(testset, batch_size=batch_size, shuffle=True)"
   ]
  },
  {
   "cell_type": "code",
   "execution_count": 12,
   "metadata": {},
   "outputs": [],
   "source": [
    "def weights_init(m):\n",
    "    classname = m.__class__.__name__\n",
    "    \n",
    "    if classname.find('Conv') != -1:\n",
    "        torch.nn.init.kaiming_normal_(m.weight)\n",
    "        \n",
    "    elif classname.find('BatchNorm') != -1:\n",
    "        torch.nn.init.normal_(m.weight, 1.0, 0.02)\n",
    "        torch.nn.init.zeros_(m.bias)\n",
    "        \n",
    "    elif classname.find('Linear') != -1:\n",
    "        torch.nn.init.xavier_uniform_(m.weight)\n",
    "        m.bias.data.fill_(0.01)\n",
    "\n",
    "\n",
    "def train_model(model=None, epochs=50, learning_rate=0.002, *loaders):\n",
    "    \n",
    "    #model.apply(weights_init)\n",
    "    \n",
    "    # Dataloaders (train/val)\n",
    "    train_loader = loaders[0]\n",
    "    val_loader = loaders[1]\n",
    "    \n",
    "    # Early Stopper\n",
    "    early_stopping = EarlyStopping(patience=7, verbose=False, path='./pretrained_model/plain_efficientnetb4_ckpt.pth')\n",
    "    \n",
    "    loss_function = nn.CrossEntropyLoss()\n",
    "    #optimizer = optim.Adam(model.parameters(), lr=lr)\n",
    "    optimizer = RAdam(model.parameters(), lr=learning_rate, betas=(0.9, 0.999), weight_decay=1e-4)\n",
    "    \n",
    "    \n",
    "    #lr_scheduler = torch.optim.lr_scheduler.CosineAnnealingLR(optimizer=optimizer, T_max=epochs/4)\n",
    "    lr_scheduler = torch.optim.lr_scheduler.MultiStepLR(optimizer=optimizer,\n",
    "                                                        milestones=[int(epochs*0.3), int(epochs*0.6)],\n",
    "                                                        gamma=0.5)\n",
    "    \n",
    "    warmup_epochs = int(epochs * 0.15)\n",
    "    lr_warmup = GradualWarmupScheduler(optimizer, multiplier=1, total_epoch=warmup_epochs, after_scheduler=lr_scheduler)\n",
    "    #decayRate = 0.998\n",
    "    #lr_scheduler = torch.optim.lr_scheduler.ExponentialLR(optimizer=optimizer, gamma=decayRate)\n",
    "    \n",
    "    # amp\n",
    "    scaler = amp.GradScaler()\n",
    "    \n",
    "    \n",
    "    train_tot_num = train_loader.dataset.__len__()\n",
    "    val_tot_num = val_loader.dataset.__len__()\n",
    "    \n",
    "    train_loss_sum, train_acc_sum = 0.0, 0.0\n",
    "    val_loss_sum, val_acc_sum = 0.0, 0.0\n",
    "    \n",
    "    logger.info(f'Training begins: epochs={epochs}')\n",
    "    for epoch in range(epochs):\n",
    "        logger.info(f'Epoch: {epoch+1}')\n",
    "        if epoch <= warmup_epochs:\n",
    "            lr_warmup.step()\n",
    "        \n",
    "        torch.cuda.empty_cache()\n",
    "        model.train()\n",
    "        \n",
    "        logger.info(f\"Learning Rate : {optimizer.param_groups[0]['lr']:.6f}\")\n",
    "        \n",
    "        train_tmp_corrects_sum, train_tmp_len = 0, 0\n",
    "        for idx, (train_X, train_Y) in enumerate(train_loader):    \n",
    "            \n",
    "            train_tmp_len += len(train_Y)\n",
    "            \n",
    "            train_X = train_X.to(device)\n",
    "            train_Y = train_Y.to(device)\n",
    "            \n",
    "            optimizer.zero_grad()\n",
    "            \n",
    "            with amp.autocast():\n",
    "                train_pred = model(train_X)\n",
    "                train_loss = loss_function(train_pred, train_Y-1)\n",
    "            \n",
    "            scaler.scale(train_loss).backward()\n",
    "            scaler.step(optimizer)\n",
    "            scaler.update()\n",
    "            \n",
    "            # Accuracy\n",
    "            pred_labels = torch.argmax(train_pred, axis=1)\n",
    "            train_acc = (pred_labels==(train_Y-1)).sum()\n",
    "            \n",
    "            train_acc_sum += train_acc.item()\n",
    "            train_loss_sum += train_loss.item()\n",
    "            \n",
    "            train_tmp_corrects_sum += train_acc.item()\n",
    "            \n",
    "            # Check between batches\n",
    "            if (idx+1) % 500 == 0:\n",
    "                print(f\"----- {str((idx+1)).zfill(5)} / {len(train_loader)}th batch | Train Acc: {train_tmp_corrects_sum/train_tmp_len*100:.4f}%\")\n",
    "                \n",
    "                # initialization\n",
    "                train_tmp_corrects_sum, train_tmp_len = 0, 0\n",
    "            \n",
    "        with torch.no_grad():\n",
    " \n",
    "            for idx, (val_X, val_Y) in enumerate(val_loader):\n",
    "\n",
    "                val_X, val_Y = val_X.to(device), val_Y.to(device)\n",
    "                val_pred = model(val_X)\n",
    "                val_loss = loss_function(val_pred, val_Y-1)\n",
    "                \n",
    "                val_pred_labels = torch.argmax(val_pred, axis=1)\n",
    "                val_acc = (val_pred_labels==(val_Y-1)).sum()\n",
    "                \n",
    "                val_acc_sum += val_acc.item()\n",
    "                val_loss_sum += val_loss.item()\n",
    "        \n",
    "        train_accuracy = train_acc_sum / train_tot_num * 100\n",
    "        val_accuracy = val_acc_sum / val_tot_num * 100\n",
    "        \n",
    "        logger.info(f\"Epoch: {epoch+1} | Training Loss: {train_loss_sum/train_tot_num:.4f} | Val Loss: {val_loss_sum/val_tot_num:.4f} | \" \\\n",
    "              f\"Train Acc: {train_accuracy:.2f}% | Val Acc: {val_accuracy:.2f}%\")\n",
    "        \n",
    "        train_loss_sum, train_acc_sum = 0.0, 0.0\n",
    "        val_loss_sum, val_acc_sum = 0.0, 0.0\n",
    "        \n",
    "        early_stopping(-val_accuracy, model)\n",
    "\n",
    "        if early_stopping.early_stop:\n",
    "            logger.info(\"Early stopping condition met --- TRAINING STOPPED\")\n",
    "            break\n",
    "        \n",
    "        lr_scheduler.step()\n",
    "        \n",
    "    return model"
   ]
  },
  {
   "cell_type": "code",
   "execution_count": 12,
   "metadata": {},
   "outputs": [],
   "source": [
    "# model\n",
    "\n",
    "# resnet_model = resnet50().to(device)\n",
    "# resnet_model.fc = nn.Sequential(\n",
    "#     nn.Linear(2048, 256),\n",
    "#     nn.BatchNorm1d(256),\n",
    "    \n",
    "#     nn.Linear(256, 26),\n",
    "# )\n"
   ]
  },
  {
   "cell_type": "code",
   "execution_count": 13,
   "metadata": {},
   "outputs": [
    {
     "name": "stdout",
     "output_type": "stream",
     "text": [
      "Loaded pretrained weights for efficientnet-b4\n"
     ]
    }
   ],
   "source": [
    "# 모델 선언\n",
    "model = PlainEfficientnetB4().to(device)"
   ]
  },
  {
   "cell_type": "code",
   "execution_count": 14,
   "metadata": {
    "scrolled": true
   },
   "outputs": [
    {
     "name": "stderr",
     "output_type": "stream",
     "text": [
      "2021-02-12 13:04:45,386 : Training begins: epochs=50\n",
      "2021-02-12 13:04:45,386 : Epoch: 1\n",
      "/home/sks/anaconda3/envs/dacon/lib/python3.8/site-packages/torch/optim/lr_scheduler.py:131: UserWarning: Detected call of `lr_scheduler.step()` before `optimizer.step()`. In PyTorch 1.1.0 and later, you should call them in the opposite order: `optimizer.step()` before `lr_scheduler.step()`.  Failure to do this will result in PyTorch skipping the first value of the learning rate schedule. See more details at https://pytorch.org/docs/stable/optim.html#how-to-adjust-learning-rate\n",
      "  warnings.warn(\"Detected call of `lr_scheduler.step()` before `optimizer.step()`. \"\n",
      "2021-02-12 13:04:45,388 : Learning Rate : 0.000357\n",
      "/home/sks/COMPETITION/DACON/computer_vision2/utils/radams.py:45: UserWarning: This overload of addcmul_ is deprecated:\n",
      "\taddcmul_(Number value, Tensor tensor1, Tensor tensor2)\n",
      "Consider using one of the following signatures instead:\n",
      "\taddcmul_(Tensor tensor1, Tensor tensor2, *, Number value) (Triggered internally at  /pytorch/torch/csrc/utils/python_arg_parser.cpp:882.)\n",
      "  exp_avg_sq.mul_(beta2).addcmul_(1 - beta2, grad, grad)\n"
     ]
    },
    {
     "name": "stdout",
     "output_type": "stream",
     "text": [
      "----- 00500 / 3900th batch | Train Acc: 50.8938%\n",
      "----- 01000 / 3900th batch | Train Acc: 83.6125%\n",
      "----- 01500 / 3900th batch | Train Acc: 87.9688%\n",
      "----- 02000 / 3900th batch | Train Acc: 88.9375%\n",
      "----- 02500 / 3900th batch | Train Acc: 89.4062%\n",
      "----- 03000 / 3900th batch | Train Acc: 90.7000%\n",
      "----- 03500 / 3900th batch | Train Acc: 90.9813%\n"
     ]
    },
    {
     "name": "stderr",
     "output_type": "stream",
     "text": [
      "2021-02-12 13:27:13,012 : Epoch: 1 | Training Loss: 0.0159 | Val Loss: 0.0074 | Train Acc: 84.06% | Val Acc: 91.73%\n",
      "2021-02-12 13:27:13,105 : Epoch: 2\n",
      "2021-02-12 13:27:13,224 : Learning Rate : 0.000714\n"
     ]
    },
    {
     "name": "stdout",
     "output_type": "stream",
     "text": [
      "----- 00500 / 3900th batch | Train Acc: 88.7563%\n",
      "----- 01000 / 3900th batch | Train Acc: 89.9000%\n",
      "----- 01500 / 3900th batch | Train Acc: 90.0875%\n",
      "----- 02000 / 3900th batch | Train Acc: 91.3375%\n",
      "----- 02500 / 3900th batch | Train Acc: 91.2937%\n",
      "----- 03000 / 3900th batch | Train Acc: 91.8875%\n",
      "----- 03500 / 3900th batch | Train Acc: 91.5812%\n"
     ]
    },
    {
     "name": "stderr",
     "output_type": "stream",
     "text": [
      "2021-02-12 13:49:44,858 : Epoch: 2 | Training Loss: 0.0087 | Val Loss: 0.0068 | Train Acc: 90.84% | Val Acc: 92.67%\n",
      "2021-02-12 13:49:45,069 : Epoch: 3\n",
      "2021-02-12 13:49:45,211 : Learning Rate : 0.001071\n"
     ]
    },
    {
     "name": "stdout",
     "output_type": "stream",
     "text": [
      "----- 00500 / 3900th batch | Train Acc: 90.5062%\n",
      "----- 01000 / 3900th batch | Train Acc: 90.6937%\n",
      "----- 01500 / 3900th batch | Train Acc: 91.3188%\n",
      "----- 02000 / 3900th batch | Train Acc: 92.0500%\n",
      "----- 02500 / 3900th batch | Train Acc: 91.7562%\n",
      "----- 03000 / 3900th batch | Train Acc: 91.8562%\n",
      "----- 03500 / 3900th batch | Train Acc: 92.0062%\n"
     ]
    },
    {
     "name": "stderr",
     "output_type": "stream",
     "text": [
      "2021-02-12 14:12:15,973 : Epoch: 3 | Training Loss: 0.0080 | Val Loss: 0.0078 | Train Acc: 91.51% | Val Acc: 91.87%\n",
      "2021-02-12 14:12:15,974 : Epoch: 4\n",
      "2021-02-12 14:12:16,097 : Learning Rate : 0.001429\n"
     ]
    },
    {
     "name": "stdout",
     "output_type": "stream",
     "text": [
      "EarlyStopping counter: 1 out of 7\n",
      "----- 00500 / 3900th batch | Train Acc: 91.4937%\n",
      "----- 01000 / 3900th batch | Train Acc: 91.2250%\n",
      "----- 01500 / 3900th batch | Train Acc: 91.7250%\n",
      "----- 02000 / 3900th batch | Train Acc: 92.0625%\n",
      "----- 02500 / 3900th batch | Train Acc: 92.4750%\n",
      "----- 03000 / 3900th batch | Train Acc: 92.0125%\n",
      "----- 03500 / 3900th batch | Train Acc: 92.1625%\n"
     ]
    },
    {
     "name": "stderr",
     "output_type": "stream",
     "text": [
      "2021-02-12 14:34:47,741 : Epoch: 4 | Training Loss: 0.0076 | Val Loss: 0.0069 | Train Acc: 91.95% | Val Acc: 92.38%\n",
      "2021-02-12 14:34:47,742 : Epoch: 5\n",
      "2021-02-12 14:34:47,867 : Learning Rate : 0.001786\n"
     ]
    },
    {
     "name": "stdout",
     "output_type": "stream",
     "text": [
      "EarlyStopping counter: 2 out of 7\n",
      "----- 00500 / 3900th batch | Train Acc: 91.5000%\n",
      "----- 01000 / 3900th batch | Train Acc: 91.8000%\n",
      "----- 01500 / 3900th batch | Train Acc: 92.4813%\n",
      "----- 02000 / 3900th batch | Train Acc: 91.8750%\n",
      "----- 02500 / 3900th batch | Train Acc: 92.2562%\n",
      "----- 03000 / 3900th batch | Train Acc: 92.6188%\n",
      "----- 03500 / 3900th batch | Train Acc: 92.6125%\n"
     ]
    },
    {
     "name": "stderr",
     "output_type": "stream",
     "text": [
      "2021-02-12 14:57:19,787 : Epoch: 5 | Training Loss: 0.0074 | Val Loss: 0.0063 | Train Acc: 92.21% | Val Acc: 93.39%\n",
      "2021-02-12 14:57:20,059 : Epoch: 6\n",
      "2021-02-12 14:57:20,221 : Learning Rate : 0.002143\n"
     ]
    },
    {
     "name": "stdout",
     "output_type": "stream",
     "text": [
      "----- 00500 / 3900th batch | Train Acc: 92.0312%\n",
      "----- 01000 / 3900th batch | Train Acc: 92.4750%\n",
      "----- 01500 / 3900th batch | Train Acc: 92.1125%\n",
      "----- 02000 / 3900th batch | Train Acc: 92.3750%\n",
      "----- 02500 / 3900th batch | Train Acc: 92.1500%\n",
      "----- 03000 / 3900th batch | Train Acc: 92.7875%\n",
      "----- 03500 / 3900th batch | Train Acc: 93.0875%\n"
     ]
    },
    {
     "name": "stderr",
     "output_type": "stream",
     "text": [
      "2021-02-12 15:19:53,413 : Epoch: 6 | Training Loss: 0.0071 | Val Loss: 0.0061 | Train Acc: 92.43% | Val Acc: 93.65%\n",
      "2021-02-12 15:19:53,637 : Epoch: 7\n",
      "2021-02-12 15:19:53,787 : Learning Rate : 0.002500\n"
     ]
    },
    {
     "name": "stdout",
     "output_type": "stream",
     "text": [
      "----- 00500 / 3900th batch | Train Acc: 92.6312%\n",
      "----- 01000 / 3900th batch | Train Acc: 92.2687%\n",
      "----- 01500 / 3900th batch | Train Acc: 92.8125%\n",
      "----- 02000 / 3900th batch | Train Acc: 92.5375%\n",
      "----- 02500 / 3900th batch | Train Acc: 92.5875%\n",
      "----- 03000 / 3900th batch | Train Acc: 92.7687%\n",
      "----- 03500 / 3900th batch | Train Acc: 93.1625%\n"
     ]
    },
    {
     "name": "stderr",
     "output_type": "stream",
     "text": [
      "2021-02-12 15:42:24,866 : Epoch: 7 | Training Loss: 0.0069 | Val Loss: 0.0076 | Train Acc: 92.69% | Val Acc: 91.71%\n",
      "2021-02-12 15:42:24,867 : Epoch: 8\n",
      "2021-02-12 15:42:25,007 : Learning Rate : 0.001912\n"
     ]
    },
    {
     "name": "stdout",
     "output_type": "stream",
     "text": [
      "EarlyStopping counter: 1 out of 7\n",
      "----- 00500 / 3900th batch | Train Acc: 93.6125%\n",
      "----- 01000 / 3900th batch | Train Acc: 93.6750%\n",
      "----- 01500 / 3900th batch | Train Acc: 93.7438%\n",
      "----- 02000 / 3900th batch | Train Acc: 93.3438%\n",
      "----- 02500 / 3900th batch | Train Acc: 93.4313%\n",
      "----- 03000 / 3900th batch | Train Acc: 93.5438%\n",
      "----- 03500 / 3900th batch | Train Acc: 93.6187%\n"
     ]
    },
    {
     "name": "stderr",
     "output_type": "stream",
     "text": [
      "2021-02-12 16:04:53,973 : Epoch: 8 | Training Loss: 0.0059 | Val Loss: 0.0060 | Train Acc: 93.58% | Val Acc: 93.69%\n",
      "2021-02-12 16:04:54,204 : Epoch: 9\n",
      "2021-02-12 16:04:54,329 : Learning Rate : 0.001351\n"
     ]
    },
    {
     "name": "stdout",
     "output_type": "stream",
     "text": [
      "----- 00500 / 3900th batch | Train Acc: 94.3563%\n",
      "----- 01000 / 3900th batch | Train Acc: 94.3750%\n",
      "----- 01500 / 3900th batch | Train Acc: 94.3250%\n",
      "----- 02000 / 3900th batch | Train Acc: 94.4062%\n",
      "----- 02500 / 3900th batch | Train Acc: 94.5063%\n",
      "----- 03000 / 3900th batch | Train Acc: 94.1688%\n",
      "----- 03500 / 3900th batch | Train Acc: 94.2375%\n"
     ]
    },
    {
     "name": "stderr",
     "output_type": "stream",
     "text": [
      "2021-02-12 16:27:22,697 : Epoch: 9 | Training Loss: 0.0051 | Val Loss: 0.0052 | Train Acc: 94.36% | Val Acc: 94.38%\n",
      "2021-02-12 16:27:22,919 : Epoch: 10\n",
      "2021-02-12 16:27:23,066 : Learning Rate : 0.000853\n"
     ]
    },
    {
     "name": "stdout",
     "output_type": "stream",
     "text": [
      "----- 00500 / 3900th batch | Train Acc: 95.0438%\n",
      "----- 01000 / 3900th batch | Train Acc: 94.9062%\n",
      "----- 01500 / 3900th batch | Train Acc: 94.6937%\n",
      "----- 02000 / 3900th batch | Train Acc: 95.0625%\n",
      "----- 02500 / 3900th batch | Train Acc: 95.3812%\n",
      "----- 03000 / 3900th batch | Train Acc: 94.9125%\n",
      "----- 03500 / 3900th batch | Train Acc: 94.9250%\n"
     ]
    },
    {
     "name": "stderr",
     "output_type": "stream",
     "text": [
      "2021-02-12 16:49:51,889 : Epoch: 10 | Training Loss: 0.0044 | Val Loss: 0.0047 | Train Acc: 94.96% | Val Acc: 94.75%\n",
      "2021-02-12 16:49:52,116 : Epoch: 11\n",
      "2021-02-12 16:49:52,269 : Learning Rate : 0.000449\n"
     ]
    },
    {
     "name": "stdout",
     "output_type": "stream",
     "text": [
      "----- 00500 / 3900th batch | Train Acc: 95.1250%\n",
      "----- 01000 / 3900th batch | Train Acc: 95.5375%\n",
      "----- 01500 / 3900th batch | Train Acc: 95.5438%\n",
      "----- 02000 / 3900th batch | Train Acc: 95.4000%\n",
      "----- 02500 / 3900th batch | Train Acc: 95.2938%\n",
      "----- 03000 / 3900th batch | Train Acc: 95.5562%\n",
      "----- 03500 / 3900th batch | Train Acc: 95.4438%\n"
     ]
    },
    {
     "name": "stderr",
     "output_type": "stream",
     "text": [
      "2021-02-12 17:12:20,947 : Epoch: 11 | Training Loss: 0.0039 | Val Loss: 0.0044 | Train Acc: 95.42% | Val Acc: 95.05%\n",
      "2021-02-12 17:12:21,173 : Epoch: 12\n",
      "2021-02-12 17:12:21,322 : Learning Rate : 0.000165\n"
     ]
    },
    {
     "name": "stdout",
     "output_type": "stream",
     "text": [
      "----- 00500 / 3900th batch | Train Acc: 95.7500%\n",
      "----- 01000 / 3900th batch | Train Acc: 95.7188%\n",
      "----- 01500 / 3900th batch | Train Acc: 95.5187%\n",
      "----- 02000 / 3900th batch | Train Acc: 95.6812%\n",
      "----- 02500 / 3900th batch | Train Acc: 95.9000%\n",
      "----- 03000 / 3900th batch | Train Acc: 95.9438%\n",
      "----- 03500 / 3900th batch | Train Acc: 95.8625%\n"
     ]
    },
    {
     "name": "stderr",
     "output_type": "stream",
     "text": [
      "2021-02-12 17:34:51,400 : Epoch: 12 | Training Loss: 0.0035 | Val Loss: 0.0042 | Train Acc: 95.77% | Val Acc: 95.35%\n",
      "2021-02-12 17:34:51,644 : Epoch: 13\n",
      "2021-02-12 17:34:51,768 : Learning Rate : 0.000019\n"
     ]
    },
    {
     "name": "stdout",
     "output_type": "stream",
     "text": [
      "----- 00500 / 3900th batch | Train Acc: 95.9562%\n",
      "----- 01000 / 3900th batch | Train Acc: 95.9062%\n",
      "----- 01500 / 3900th batch | Train Acc: 96.1000%\n",
      "----- 02000 / 3900th batch | Train Acc: 96.1000%\n",
      "----- 02500 / 3900th batch | Train Acc: 95.8937%\n",
      "----- 03000 / 3900th batch | Train Acc: 96.0750%\n",
      "----- 03500 / 3900th batch | Train Acc: 96.0000%\n"
     ]
    },
    {
     "name": "stderr",
     "output_type": "stream",
     "text": [
      "2021-02-12 17:57:17,921 : Epoch: 13 | Training Loss: 0.0033 | Val Loss: 0.0041 | Train Acc: 96.02% | Val Acc: 95.32%\n",
      "2021-02-12 17:57:17,921 : Epoch: 14\n",
      "2021-02-12 17:57:18,073 : Learning Rate : 0.000019\n"
     ]
    },
    {
     "name": "stdout",
     "output_type": "stream",
     "text": [
      "EarlyStopping counter: 1 out of 7\n",
      "----- 00500 / 3900th batch | Train Acc: 95.8688%\n",
      "----- 01000 / 3900th batch | Train Acc: 96.0563%\n",
      "----- 01500 / 3900th batch | Train Acc: 95.9750%\n",
      "----- 02000 / 3900th batch | Train Acc: 96.0063%\n",
      "----- 02500 / 3900th batch | Train Acc: 96.1000%\n",
      "----- 03000 / 3900th batch | Train Acc: 96.0187%\n",
      "----- 03500 / 3900th batch | Train Acc: 96.2313%\n"
     ]
    },
    {
     "name": "stderr",
     "output_type": "stream",
     "text": [
      "2021-02-12 18:19:47,971 : Epoch: 14 | Training Loss: 0.0033 | Val Loss: 0.0041 | Train Acc: 96.03% | Val Acc: 95.47%\n",
      "2021-02-12 18:19:48,197 : Epoch: 15\n",
      "2021-02-12 18:19:48,360 : Learning Rate : 0.000165\n"
     ]
    },
    {
     "name": "stdout",
     "output_type": "stream",
     "text": [
      "----- 00500 / 3900th batch | Train Acc: 95.6875%\n",
      "----- 01000 / 3900th batch | Train Acc: 96.0187%\n",
      "----- 01500 / 3900th batch | Train Acc: 95.8375%\n",
      "----- 02000 / 3900th batch | Train Acc: 95.9313%\n",
      "----- 02500 / 3900th batch | Train Acc: 95.9375%\n",
      "----- 03000 / 3900th batch | Train Acc: 95.8063%\n",
      "----- 03500 / 3900th batch | Train Acc: 95.9812%\n"
     ]
    },
    {
     "name": "stderr",
     "output_type": "stream",
     "text": [
      "2021-02-12 18:42:17,903 : Epoch: 15 | Training Loss: 0.0034 | Val Loss: 0.0041 | Train Acc: 95.89% | Val Acc: 95.39%\n",
      "2021-02-12 18:42:17,903 : Epoch: 16\n",
      "2021-02-12 18:42:18,030 : Learning Rate : 0.000449\n"
     ]
    },
    {
     "name": "stdout",
     "output_type": "stream",
     "text": [
      "EarlyStopping counter: 1 out of 7\n",
      "----- 00500 / 3900th batch | Train Acc: 95.8187%\n",
      "----- 01000 / 3900th batch | Train Acc: 95.5375%\n",
      "----- 01500 / 3900th batch | Train Acc: 95.3688%\n",
      "----- 02000 / 3900th batch | Train Acc: 95.7250%\n",
      "----- 02500 / 3900th batch | Train Acc: 95.5500%\n",
      "----- 03000 / 3900th batch | Train Acc: 95.3937%\n",
      "----- 03500 / 3900th batch | Train Acc: 95.8750%\n"
     ]
    },
    {
     "name": "stderr",
     "output_type": "stream",
     "text": [
      "2021-02-12 19:04:47,619 : Epoch: 16 | Training Loss: 0.0036 | Val Loss: 0.0042 | Train Acc: 95.60% | Val Acc: 95.29%\n",
      "2021-02-12 19:04:47,619 : Epoch: 17\n",
      "2021-02-12 19:04:47,745 : Learning Rate : 0.000853\n"
     ]
    },
    {
     "name": "stdout",
     "output_type": "stream",
     "text": [
      "EarlyStopping counter: 2 out of 7\n",
      "----- 00500 / 3900th batch | Train Acc: 95.5063%\n",
      "----- 01000 / 3900th batch | Train Acc: 95.5562%\n",
      "----- 01500 / 3900th batch | Train Acc: 95.4188%\n",
      "----- 02000 / 3900th batch | Train Acc: 95.2250%\n",
      "----- 02500 / 3900th batch | Train Acc: 95.0688%\n",
      "----- 03000 / 3900th batch | Train Acc: 95.2313%\n",
      "----- 03500 / 3900th batch | Train Acc: 95.3500%\n"
     ]
    },
    {
     "name": "stderr",
     "output_type": "stream",
     "text": [
      "2021-02-12 19:28:16,789 : Epoch: 17 | Training Loss: 0.0040 | Val Loss: 0.0045 | Train Acc: 95.31% | Val Acc: 94.99%\n",
      "2021-02-12 19:28:16,790 : Epoch: 18\n",
      "2021-02-12 19:28:16,956 : Learning Rate : 0.001351\n"
     ]
    },
    {
     "name": "stdout",
     "output_type": "stream",
     "text": [
      "EarlyStopping counter: 3 out of 7\n",
      "----- 00500 / 3900th batch | Train Acc: 94.8875%\n",
      "----- 01000 / 3900th batch | Train Acc: 94.6125%\n",
      "----- 01500 / 3900th batch | Train Acc: 94.9000%\n",
      "----- 02000 / 3900th batch | Train Acc: 94.9438%\n",
      "----- 02500 / 3900th batch | Train Acc: 94.9062%\n",
      "----- 03000 / 3900th batch | Train Acc: 94.8125%\n",
      "----- 03500 / 3900th batch | Train Acc: 94.5625%\n"
     ]
    },
    {
     "name": "stderr",
     "output_type": "stream",
     "text": [
      "2021-02-12 19:53:04,250 : Epoch: 18 | Training Loss: 0.0045 | Val Loss: 0.0053 | Train Acc: 94.84% | Val Acc: 94.37%\n",
      "2021-02-12 19:53:04,251 : Epoch: 19\n",
      "2021-02-12 19:53:04,385 : Learning Rate : 0.001912\n"
     ]
    },
    {
     "name": "stdout",
     "output_type": "stream",
     "text": [
      "EarlyStopping counter: 4 out of 7\n",
      "----- 00500 / 3900th batch | Train Acc: 94.5438%\n",
      "----- 01000 / 3900th batch | Train Acc: 93.6875%\n",
      "----- 01500 / 3900th batch | Train Acc: 94.3625%\n",
      "----- 02000 / 3900th batch | Train Acc: 94.6000%\n",
      "----- 02500 / 3900th batch | Train Acc: 94.1000%\n",
      "----- 03000 / 3900th batch | Train Acc: 93.9187%\n",
      "----- 03500 / 3900th batch | Train Acc: 94.5187%\n"
     ]
    },
    {
     "name": "stderr",
     "output_type": "stream",
     "text": [
      "2021-02-12 20:17:56,796 : Epoch: 19 | Training Loss: 0.0050 | Val Loss: 0.0056 | Train Acc: 94.29% | Val Acc: 94.07%\n",
      "2021-02-12 20:17:56,797 : Epoch: 20\n",
      "2021-02-12 20:17:56,972 : Learning Rate : 0.002500\n"
     ]
    },
    {
     "name": "stdout",
     "output_type": "stream",
     "text": [
      "EarlyStopping counter: 5 out of 7\n",
      "----- 00500 / 3900th batch | Train Acc: 94.0438%\n",
      "----- 01000 / 3900th batch | Train Acc: 93.7875%\n",
      "----- 01500 / 3900th batch | Train Acc: 93.8438%\n",
      "----- 02000 / 3900th batch | Train Acc: 93.9250%\n",
      "----- 02500 / 3900th batch | Train Acc: 93.9500%\n",
      "----- 03000 / 3900th batch | Train Acc: 93.9187%\n",
      "----- 03500 / 3900th batch | Train Acc: 93.5875%\n"
     ]
    },
    {
     "name": "stderr",
     "output_type": "stream",
     "text": [
      "2021-02-12 20:42:50,686 : Epoch: 20 | Training Loss: 0.0056 | Val Loss: 0.0055 | Train Acc: 93.88% | Val Acc: 94.04%\n",
      "2021-02-12 20:42:50,687 : Epoch: 21\n",
      "2021-02-12 20:42:50,849 : Learning Rate : 0.003079\n"
     ]
    },
    {
     "name": "stdout",
     "output_type": "stream",
     "text": [
      "EarlyStopping counter: 6 out of 7\n",
      "----- 00500 / 3900th batch | Train Acc: 93.5813%\n",
      "----- 01000 / 3900th batch | Train Acc: 93.2562%\n",
      "----- 01500 / 3900th batch | Train Acc: 93.0938%\n",
      "----- 02000 / 3900th batch | Train Acc: 93.9813%\n",
      "----- 02500 / 3900th batch | Train Acc: 93.5562%\n",
      "----- 03000 / 3900th batch | Train Acc: 93.6063%\n",
      "----- 03500 / 3900th batch | Train Acc: 93.4562%\n"
     ]
    },
    {
     "name": "stderr",
     "output_type": "stream",
     "text": [
      "2021-02-12 21:07:41,538 : Epoch: 21 | Training Loss: 0.0059 | Val Loss: 0.0057 | Train Acc: 93.47% | Val Acc: 93.91%\n",
      "2021-02-12 21:07:41,539 : Early stopping condition met --- TRAINING STOPPED\n"
     ]
    },
    {
     "name": "stdout",
     "output_type": "stream",
     "text": [
      "EarlyStopping counter: 7 out of 7\n"
     ]
    }
   ],
   "source": [
    "learning_rate = 0.0025\n",
    "epochs = 50\n",
    "\n",
    "model_fit = train_model(model, epochs, learning_rate, train_loader, test_loader)"
   ]
  },
  {
   "cell_type": "code",
   "execution_count": null,
   "metadata": {},
   "outputs": [],
   "source": []
  },
  {
   "cell_type": "code",
   "execution_count": null,
   "metadata": {},
   "outputs": [],
   "source": []
  },
  {
   "cell_type": "code",
   "execution_count": null,
   "metadata": {},
   "outputs": [],
   "source": [
    "model_resnet = resnet50(pretrained=True)"
   ]
  },
  {
   "cell_type": "code",
   "execution_count": null,
   "metadata": {},
   "outputs": [],
   "source": [
    "model_resnet.fc = nn.Linear()"
   ]
  }
 ],
 "metadata": {
  "kernelspec": {
   "display_name": "dacon",
   "language": "python",
   "name": "dacon"
  },
  "language_info": {
   "codemirror_mode": {
    "name": "ipython",
    "version": 3
   },
   "file_extension": ".py",
   "mimetype": "text/x-python",
   "name": "python",
   "nbconvert_exporter": "python",
   "pygments_lexer": "ipython3",
   "version": "3.8.5"
  }
 },
 "nbformat": 4,
 "nbformat_minor": 4
}
